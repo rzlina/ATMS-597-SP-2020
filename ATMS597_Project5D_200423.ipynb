{
  "nbformat": 4,
  "nbformat_minor": 0,
  "metadata": {
    "kernelspec": {
      "display_name": "Python 3",
      "language": "python",
      "name": "python3"
    },
    "language_info": {
      "codemirror_mode": {
        "name": "ipython",
        "version": 3
      },
      "file_extension": ".py",
      "mimetype": "text/x-python",
      "name": "python",
      "nbconvert_exporter": "python",
      "pygments_lexer": "ipython3",
      "version": "3.7.4"
    },
    "colab": {
      "name": "ATMS597_Project5D_200423.ipynb",
      "provenance": [],
      "include_colab_link": true
    }
  },
  "cells": [
    {
      "cell_type": "markdown",
      "metadata": {
        "id": "view-in-github",
        "colab_type": "text"
      },
      "source": [
        "<a href=\"https://colab.research.google.com/github/rzlina/ATMS-597-SP-2020/blob/master/ATMS597_Project5D_200423.ipynb\" target=\"_parent\"><img src=\"https://colab.research.google.com/assets/colab-badge.svg\" alt=\"Open In Colab\"/></a>"
      ]
    },
    {
      "cell_type": "markdown",
      "metadata": {
        "id": "7Tn_jfwEN02-",
        "colab_type": "text"
      },
      "source": [
        "# ATMS 597: Project 5 - Classification"
      ]
    },
    {
      "cell_type": "markdown",
      "metadata": {
        "id": "asTTfAQ0N03A",
        "colab_type": "text"
      },
      "source": [
        "Group D: Joyce Yang, Yang Lu, Lina Rivelli-Zea\n",
        "\n",
        "Model 1: Logistic Regression classification with default values\n",
        "\n",
        "UIUC - April, 2020"
      ]
    },
    {
      "cell_type": "markdown",
      "metadata": {
        "id": "vdmWZhOUN03C",
        "colab_type": "text"
      },
      "source": [
        "REFERENCES\n",
        "\n",
        "Notebook: https://colab.research.google.com/drive/1Zqf6bIHAMROxYaeSTCIAQQmfaDDpPfWp#scrollTo=0kWn-CNvaHUJ\n",
        "\n",
        "Example: https://www.kaggle.com/akdagmelih/rain-prediction-logistic-regression-example\n",
        "\n",
        "Book: Chopra R. et. al (2019). Data Science in Python, Chapter 3 (95-133), www.packt.com"
      ]
    },
    {
      "cell_type": "code",
      "metadata": {
        "id": "MwrKKRqwN03F",
        "colab_type": "code",
        "colab": {},
        "outputId": "555c8d47-cd14-4728-f4e4-05363d1d3157"
      },
      "source": [
        "pwd"
      ],
      "execution_count": 0,
      "outputs": [
        {
          "output_type": "execute_result",
          "data": {
            "text/plain": [
              "'/data/keeling/a/ler5/python/pyradartutorials/00_introduction'"
            ]
          },
          "metadata": {
            "tags": []
          },
          "execution_count": 1
        }
      ]
    },
    {
      "cell_type": "markdown",
      "metadata": {
        "id": "2lj3nY9oN03N",
        "colab_type": "text"
      },
      "source": [
        "# Setup the model"
      ]
    },
    {
      "cell_type": "code",
      "metadata": {
        "id": "7UbJJsfZN03R",
        "colab_type": "code",
        "colab": {},
        "outputId": "a2943a93-db84-4007-f325-ce93d8d2d4e9"
      },
      "source": [
        "# Setup 1\n",
        "!pip install metpy\n",
        "!pip install metar"
      ],
      "execution_count": 0,
      "outputs": [
        {
          "output_type": "stream",
          "text": [
            "Requirement already satisfied: metpy in /data/keeling/a/prateek7/anaconda3/lib/python3.7/site-packages (0.12.1)\n",
            "Requirement already satisfied: scipy>=1.0 in /data/keeling/a/prateek7/anaconda3/lib/python3.7/site-packages (from metpy) (1.4.1)\n",
            "Requirement already satisfied: pandas>=0.22.0 in /data/keeling/a/prateek7/anaconda3/lib/python3.7/site-packages (from metpy) (0.24.2)\n",
            "Requirement already satisfied: pint>=0.10.1 in /data/keeling/a/prateek7/anaconda3/lib/python3.7/site-packages (from metpy) (0.11)\n",
            "Requirement already satisfied: traitlets>=4.3.0 in /data/keeling/a/prateek7/anaconda3/lib/python3.7/site-packages (from metpy) (4.3.2)\n",
            "Requirement already satisfied: matplotlib>=2.1.0 in /data/keeling/a/prateek7/anaconda3/lib/python3.7/site-packages (from metpy) (3.0.3)\n",
            "Requirement already satisfied: xarray>=0.13.0 in /data/keeling/a/prateek7/anaconda3/lib/python3.7/site-packages (from metpy) (0.15.1)\n",
            "Requirement already satisfied: numpy>=1.16.0 in /data/keeling/a/prateek7/anaconda3/lib/python3.7/site-packages (from metpy) (1.16.2)\n",
            "Requirement already satisfied: pooch>=0.1 in /data/keeling/a/prateek7/anaconda3/lib/python3.7/site-packages (from metpy) (1.1.0)\n",
            "Requirement already satisfied: pytz>=2011k in /data/keeling/a/prateek7/anaconda3/lib/python3.7/site-packages (from pandas>=0.22.0->metpy) (2018.9)\n",
            "Requirement already satisfied: python-dateutil>=2.5.0 in /data/keeling/a/prateek7/anaconda3/lib/python3.7/site-packages (from pandas>=0.22.0->metpy) (2.8.0)\n",
            "Requirement already satisfied: setuptools in /data/keeling/a/prateek7/anaconda3/lib/python3.7/site-packages (from pint>=0.10.1->metpy) (46.1.3)\n",
            "Requirement already satisfied: decorator in /data/keeling/a/prateek7/anaconda3/lib/python3.7/site-packages (from traitlets>=4.3.0->metpy) (4.4.0)\n",
            "Requirement already satisfied: ipython-genutils in /data/keeling/a/prateek7/anaconda3/lib/python3.7/site-packages (from traitlets>=4.3.0->metpy) (0.2.0)\n",
            "Requirement already satisfied: six in /data/keeling/a/prateek7/anaconda3/lib/python3.7/site-packages (from traitlets>=4.3.0->metpy) (1.12.0)\n",
            "Requirement already satisfied: cycler>=0.10 in /data/keeling/a/prateek7/anaconda3/lib/python3.7/site-packages (from matplotlib>=2.1.0->metpy) (0.10.0)\n",
            "Requirement already satisfied: kiwisolver>=1.0.1 in /data/keeling/a/prateek7/anaconda3/lib/python3.7/site-packages (from matplotlib>=2.1.0->metpy) (1.0.1)\n",
            "Requirement already satisfied: pyparsing!=2.0.4,!=2.1.2,!=2.1.6,>=2.0.1 in /data/keeling/a/prateek7/anaconda3/lib/python3.7/site-packages (from matplotlib>=2.1.0->metpy) (2.3.1)\n",
            "Requirement already satisfied: packaging in /data/keeling/a/prateek7/anaconda3/lib/python3.7/site-packages (from pooch>=0.1->metpy) (19.0)\n",
            "Requirement already satisfied: requests in /data/keeling/a/prateek7/anaconda3/lib/python3.7/site-packages (from pooch>=0.1->metpy) (2.21.0)\n",
            "Requirement already satisfied: appdirs in /data/keeling/a/prateek7/anaconda3/lib/python3.7/site-packages (from pooch>=0.1->metpy) (1.4.3)\n",
            "Requirement already satisfied: idna<2.9,>=2.5 in /data/keeling/a/prateek7/anaconda3/lib/python3.7/site-packages (from requests->pooch>=0.1->metpy) (2.8)\n",
            "Requirement already satisfied: urllib3<1.25,>=1.21.1 in /data/keeling/a/prateek7/anaconda3/lib/python3.7/site-packages (from requests->pooch>=0.1->metpy) (1.24.1)\n",
            "Requirement already satisfied: certifi>=2017.4.17 in /data/keeling/a/prateek7/anaconda3/lib/python3.7/site-packages (from requests->pooch>=0.1->metpy) (2019.3.9)\n",
            "Requirement already satisfied: chardet<3.1.0,>=3.0.2 in /data/keeling/a/prateek7/anaconda3/lib/python3.7/site-packages (from requests->pooch>=0.1->metpy) (3.0.4)\n",
            "Requirement already satisfied: metar in /data/keeling/a/prateek7/anaconda3/lib/python3.7/site-packages (1.7.0)\n"
          ],
          "name": "stdout"
        }
      ]
    },
    {
      "cell_type": "code",
      "metadata": {
        "id": "tD4P086IN03Y",
        "colab_type": "code",
        "colab": {},
        "outputId": "43c3cb39-fb2a-402c-bd89-6de999a71760"
      },
      "source": [
        "# Setup 2\n",
        "\n",
        "!pip install scipy\n",
        "!pip install tensorflow\n",
        "!pip install keras"
      ],
      "execution_count": 0,
      "outputs": [
        {
          "output_type": "stream",
          "text": [
            "Requirement already satisfied: scipy in /data/keeling/a/prateek7/anaconda3/lib/python3.7/site-packages (1.4.1)\n",
            "Requirement already satisfied: numpy>=1.13.3 in /data/keeling/a/prateek7/anaconda3/lib/python3.7/site-packages (from scipy) (1.16.2)\n",
            "Requirement already satisfied: tensorflow in /data/keeling/a/prateek7/anaconda3/lib/python3.7/site-packages (2.1.0)\n",
            "Requirement already satisfied: wrapt>=1.11.1 in /data/keeling/a/prateek7/anaconda3/lib/python3.7/site-packages (from tensorflow) (1.11.1)\n",
            "Requirement already satisfied: keras-preprocessing>=1.1.0 in /data/keeling/a/prateek7/anaconda3/lib/python3.7/site-packages (from tensorflow) (1.1.0)\n",
            "Requirement already satisfied: tensorboard<2.2.0,>=2.1.0 in /data/keeling/a/prateek7/anaconda3/lib/python3.7/site-packages (from tensorflow) (2.1.1)\n",
            "Requirement already satisfied: termcolor>=1.1.0 in /data/keeling/a/prateek7/anaconda3/lib/python3.7/site-packages (from tensorflow) (1.1.0)\n",
            "Requirement already satisfied: wheel>=0.26; python_version >= \"3\" in /data/keeling/a/prateek7/anaconda3/lib/python3.7/site-packages (from tensorflow) (0.33.1)\n",
            "Requirement already satisfied: protobuf>=3.8.0 in /data/keeling/a/prateek7/anaconda3/lib/python3.7/site-packages (from tensorflow) (3.11.3)\n",
            "Requirement already satisfied: tensorflow-estimator<2.2.0,>=2.1.0rc0 in /data/keeling/a/prateek7/anaconda3/lib/python3.7/site-packages (from tensorflow) (2.1.0)\n",
            "Requirement already satisfied: scipy==1.4.1; python_version >= \"3\" in /data/keeling/a/prateek7/anaconda3/lib/python3.7/site-packages (from tensorflow) (1.4.1)\n",
            "Requirement already satisfied: six>=1.12.0 in /data/keeling/a/prateek7/anaconda3/lib/python3.7/site-packages (from tensorflow) (1.12.0)\n",
            "Requirement already satisfied: grpcio>=1.8.6 in /data/keeling/a/prateek7/anaconda3/lib/python3.7/site-packages (from tensorflow) (1.28.1)\n",
            "Requirement already satisfied: keras-applications>=1.0.8 in /data/keeling/a/prateek7/anaconda3/lib/python3.7/site-packages (from tensorflow) (1.0.8)\n",
            "Requirement already satisfied: google-pasta>=0.1.6 in /data/keeling/a/prateek7/anaconda3/lib/python3.7/site-packages (from tensorflow) (0.2.0)\n",
            "Requirement already satisfied: gast==0.2.2 in /data/keeling/a/prateek7/anaconda3/lib/python3.7/site-packages (from tensorflow) (0.2.2)\n",
            "Requirement already satisfied: absl-py>=0.7.0 in /data/keeling/a/prateek7/anaconda3/lib/python3.7/site-packages (from tensorflow) (0.9.0)\n",
            "Requirement already satisfied: numpy<2.0,>=1.16.0 in /data/keeling/a/prateek7/anaconda3/lib/python3.7/site-packages (from tensorflow) (1.16.2)\n",
            "Requirement already satisfied: opt-einsum>=2.3.2 in /data/keeling/a/prateek7/anaconda3/lib/python3.7/site-packages (from tensorflow) (3.2.1)\n",
            "Requirement already satisfied: astor>=0.6.0 in /data/keeling/a/prateek7/anaconda3/lib/python3.7/site-packages (from tensorflow) (0.8.1)\n",
            "Requirement already satisfied: google-auth-oauthlib<0.5,>=0.4.1 in /data/keeling/a/prateek7/anaconda3/lib/python3.7/site-packages (from tensorboard<2.2.0,>=2.1.0->tensorflow) (0.4.1)\n",
            "Requirement already satisfied: requests<3,>=2.21.0 in /data/keeling/a/prateek7/anaconda3/lib/python3.7/site-packages (from tensorboard<2.2.0,>=2.1.0->tensorflow) (2.21.0)\n",
            "Requirement already satisfied: google-auth<2,>=1.6.3 in /data/keeling/a/prateek7/anaconda3/lib/python3.7/site-packages (from tensorboard<2.2.0,>=2.1.0->tensorflow) (1.14.0)\n",
            "Requirement already satisfied: setuptools>=41.0.0 in /data/keeling/a/prateek7/anaconda3/lib/python3.7/site-packages (from tensorboard<2.2.0,>=2.1.0->tensorflow) (46.1.3)\n",
            "Requirement already satisfied: markdown>=2.6.8 in /data/keeling/a/prateek7/anaconda3/lib/python3.7/site-packages (from tensorboard<2.2.0,>=2.1.0->tensorflow) (3.2.1)\n",
            "Requirement already satisfied: werkzeug>=0.11.15 in /data/keeling/a/prateek7/anaconda3/lib/python3.7/site-packages (from tensorboard<2.2.0,>=2.1.0->tensorflow) (0.14.1)\n",
            "Requirement already satisfied: h5py in /data/keeling/a/prateek7/anaconda3/lib/python3.7/site-packages (from keras-applications>=1.0.8->tensorflow) (2.9.0)\n",
            "Requirement already satisfied: requests-oauthlib>=0.7.0 in /data/keeling/a/prateek7/anaconda3/lib/python3.7/site-packages (from google-auth-oauthlib<0.5,>=0.4.1->tensorboard<2.2.0,>=2.1.0->tensorflow) (1.3.0)\n",
            "Requirement already satisfied: idna<2.9,>=2.5 in /data/keeling/a/prateek7/anaconda3/lib/python3.7/site-packages (from requests<3,>=2.21.0->tensorboard<2.2.0,>=2.1.0->tensorflow) (2.8)\n",
            "Requirement already satisfied: certifi>=2017.4.17 in /data/keeling/a/prateek7/anaconda3/lib/python3.7/site-packages (from requests<3,>=2.21.0->tensorboard<2.2.0,>=2.1.0->tensorflow) (2019.3.9)\n",
            "Requirement already satisfied: chardet<3.1.0,>=3.0.2 in /data/keeling/a/prateek7/anaconda3/lib/python3.7/site-packages (from requests<3,>=2.21.0->tensorboard<2.2.0,>=2.1.0->tensorflow) (3.0.4)\n",
            "Requirement already satisfied: urllib3<1.25,>=1.21.1 in /data/keeling/a/prateek7/anaconda3/lib/python3.7/site-packages (from requests<3,>=2.21.0->tensorboard<2.2.0,>=2.1.0->tensorflow) (1.24.1)\n",
            "Requirement already satisfied: rsa<4.1,>=3.1.4 in /data/keeling/a/prateek7/anaconda3/lib/python3.7/site-packages (from google-auth<2,>=1.6.3->tensorboard<2.2.0,>=2.1.0->tensorflow) (4.0)\n",
            "Requirement already satisfied: pyasn1-modules>=0.2.1 in /data/keeling/a/prateek7/anaconda3/lib/python3.7/site-packages (from google-auth<2,>=1.6.3->tensorboard<2.2.0,>=2.1.0->tensorflow) (0.2.8)\n",
            "Requirement already satisfied: cachetools<5.0,>=2.0.0 in /data/keeling/a/prateek7/anaconda3/lib/python3.7/site-packages (from google-auth<2,>=1.6.3->tensorboard<2.2.0,>=2.1.0->tensorflow) (4.1.0)\n",
            "Requirement already satisfied: oauthlib>=3.0.0 in /data/keeling/a/prateek7/anaconda3/lib/python3.7/site-packages (from requests-oauthlib>=0.7.0->google-auth-oauthlib<0.5,>=0.4.1->tensorboard<2.2.0,>=2.1.0->tensorflow) (3.1.0)\n",
            "Requirement already satisfied: pyasn1>=0.1.3 in /data/keeling/a/prateek7/anaconda3/lib/python3.7/site-packages (from rsa<4.1,>=3.1.4->google-auth<2,>=1.6.3->tensorboard<2.2.0,>=2.1.0->tensorflow) (0.4.8)\n",
            "Requirement already satisfied: keras in /data/keeling/a/prateek7/anaconda3/lib/python3.7/site-packages (2.3.1)\n",
            "Requirement already satisfied: keras-applications>=1.0.6 in /data/keeling/a/prateek7/anaconda3/lib/python3.7/site-packages (from keras) (1.0.8)\n",
            "Requirement already satisfied: numpy>=1.9.1 in /data/keeling/a/prateek7/anaconda3/lib/python3.7/site-packages (from keras) (1.16.2)\n",
            "Requirement already satisfied: pyyaml in /data/keeling/a/prateek7/anaconda3/lib/python3.7/site-packages (from keras) (5.1)\n",
            "Requirement already satisfied: h5py in /data/keeling/a/prateek7/anaconda3/lib/python3.7/site-packages (from keras) (2.9.0)\n",
            "Requirement already satisfied: six>=1.9.0 in /data/keeling/a/prateek7/anaconda3/lib/python3.7/site-packages (from keras) (1.12.0)\n",
            "Requirement already satisfied: keras-preprocessing>=1.0.5 in /data/keeling/a/prateek7/anaconda3/lib/python3.7/site-packages (from keras) (1.1.0)\n",
            "Requirement already satisfied: scipy>=0.14 in /data/keeling/a/prateek7/anaconda3/lib/python3.7/site-packages (from keras) (1.4.1)\n"
          ],
          "name": "stdout"
        }
      ]
    },
    {
      "cell_type": "code",
      "metadata": {
        "id": "a8ZTNjqZN03b",
        "colab_type": "code",
        "colab": {},
        "outputId": "5d90e5e0-c6f8-4938-f738-45dcbf996d68"
      },
      "source": [
        "# Setup 3\n",
        "!pip install scikit-image\n",
        "!pip install netCDF4\n",
        "!pip install pyproj\n",
        "!pip install scikit-learn\n",
        "!pip install opencv-python"
      ],
      "execution_count": 0,
      "outputs": [
        {
          "output_type": "stream",
          "text": [
            "Requirement already satisfied: scikit-image in /data/keeling/a/prateek7/anaconda3/lib/python3.7/site-packages (0.14.2)\n",
            "Requirement already satisfied: cloudpickle>=0.2.1 in /data/keeling/a/prateek7/anaconda3/lib/python3.7/site-packages (from scikit-image) (0.8.0)\n",
            "Requirement already satisfied: pillow>=4.3.0 in /data/keeling/a/prateek7/anaconda3/lib/python3.7/site-packages (from scikit-image) (5.4.1)\n",
            "Requirement already satisfied: PyWavelets>=0.4.0 in /data/keeling/a/prateek7/anaconda3/lib/python3.7/site-packages (from scikit-image) (1.0.2)\n",
            "Requirement already satisfied: six>=1.10.0 in /data/keeling/a/prateek7/anaconda3/lib/python3.7/site-packages (from scikit-image) (1.12.0)\n",
            "Requirement already satisfied: dask[array]>=1.0.0 in /data/keeling/a/prateek7/anaconda3/lib/python3.7/site-packages (from scikit-image) (1.1.4)\n",
            "Requirement already satisfied: matplotlib>=2.0.0 in /data/keeling/a/prateek7/anaconda3/lib/python3.7/site-packages (from scikit-image) (3.0.3)\n",
            "Requirement already satisfied: networkx>=1.8 in /data/keeling/a/prateek7/anaconda3/lib/python3.7/site-packages (from scikit-image) (2.2)\n",
            "Requirement already satisfied: numpy>=1.9.1 in /data/keeling/a/prateek7/anaconda3/lib/python3.7/site-packages (from PyWavelets>=0.4.0->scikit-image) (1.16.2)\n",
            "Requirement already satisfied: toolz>=0.7.3; extra == \"array\" in /data/keeling/a/prateek7/anaconda3/lib/python3.7/site-packages (from dask[array]>=1.0.0->scikit-image) (0.9.0)\n",
            "Requirement already satisfied: cycler>=0.10 in /data/keeling/a/prateek7/anaconda3/lib/python3.7/site-packages (from matplotlib>=2.0.0->scikit-image) (0.10.0)\n",
            "Requirement already satisfied: kiwisolver>=1.0.1 in /data/keeling/a/prateek7/anaconda3/lib/python3.7/site-packages (from matplotlib>=2.0.0->scikit-image) (1.0.1)\n",
            "Requirement already satisfied: pyparsing!=2.0.4,!=2.1.2,!=2.1.6,>=2.0.1 in /data/keeling/a/prateek7/anaconda3/lib/python3.7/site-packages (from matplotlib>=2.0.0->scikit-image) (2.3.1)\n",
            "Requirement already satisfied: python-dateutil>=2.1 in /data/keeling/a/prateek7/anaconda3/lib/python3.7/site-packages (from matplotlib>=2.0.0->scikit-image) (2.8.0)\n",
            "Requirement already satisfied: decorator>=4.3.0 in /data/keeling/a/prateek7/anaconda3/lib/python3.7/site-packages (from networkx>=1.8->scikit-image) (4.4.0)\n",
            "Requirement already satisfied: setuptools in /data/keeling/a/prateek7/anaconda3/lib/python3.7/site-packages (from kiwisolver>=1.0.1->matplotlib>=2.0.0->scikit-image) (46.1.3)\n",
            "Requirement already satisfied: netCDF4 in /data/keeling/a/prateek7/anaconda3/lib/python3.7/site-packages (1.5.3)\n",
            "Requirement already satisfied: cftime in /data/keeling/a/prateek7/anaconda3/lib/python3.7/site-packages (from netCDF4) (1.1.2)\n",
            "Requirement already satisfied: numpy>=1.7 in /data/keeling/a/prateek7/anaconda3/lib/python3.7/site-packages (from netCDF4) (1.16.2)\n",
            "Requirement already satisfied: pyproj in /data/keeling/a/prateek7/anaconda3/lib/python3.7/site-packages (2.6.0)\n",
            "Requirement already satisfied: scikit-learn in /data/keeling/a/prateek7/anaconda3/lib/python3.7/site-packages (0.20.3)\n",
            "Requirement already satisfied: scipy>=0.13.3 in /data/keeling/a/prateek7/anaconda3/lib/python3.7/site-packages (from scikit-learn) (1.4.1)\n",
            "Requirement already satisfied: numpy>=1.8.2 in /data/keeling/a/prateek7/anaconda3/lib/python3.7/site-packages (from scikit-learn) (1.16.2)\n",
            "Requirement already satisfied: opencv-python in /data/keeling/a/prateek7/anaconda3/lib/python3.7/site-packages (4.2.0.34)\n",
            "Requirement already satisfied: numpy>=1.14.5 in /data/keeling/a/prateek7/anaconda3/lib/python3.7/site-packages (from opencv-python) (1.16.2)\n"
          ],
          "name": "stdout"
        }
      ]
    },
    {
      "cell_type": "code",
      "metadata": {
        "id": "0O0NDPXcN03g",
        "colab_type": "code",
        "colab": {},
        "outputId": "b330702b-f59b-4730-a3f2-3a4e4de0c750"
      },
      "source": [
        "# Setup 4\n",
        "!pip install matplotlib"
      ],
      "execution_count": 0,
      "outputs": [
        {
          "output_type": "stream",
          "text": [
            "Requirement already satisfied: matplotlib in /data/keeling/a/prateek7/anaconda3/lib/python3.7/site-packages (3.0.3)\r\n",
            "Requirement already satisfied: numpy>=1.10.0 in /data/keeling/a/prateek7/anaconda3/lib/python3.7/site-packages (from matplotlib) (1.16.2)\r\n",
            "Requirement already satisfied: cycler>=0.10 in /data/keeling/a/prateek7/anaconda3/lib/python3.7/site-packages (from matplotlib) (0.10.0)\r\n",
            "Requirement already satisfied: kiwisolver>=1.0.1 in /data/keeling/a/prateek7/anaconda3/lib/python3.7/site-packages (from matplotlib) (1.0.1)\r\n",
            "Requirement already satisfied: pyparsing!=2.0.4,!=2.1.2,!=2.1.6,>=2.0.1 in /data/keeling/a/prateek7/anaconda3/lib/python3.7/site-packages (from matplotlib) (2.3.1)\r\n",
            "Requirement already satisfied: python-dateutil>=2.1 in /data/keeling/a/prateek7/anaconda3/lib/python3.7/site-packages (from matplotlib) (2.8.0)\r\n",
            "Requirement already satisfied: six in /data/keeling/a/prateek7/anaconda3/lib/python3.7/site-packages (from cycler>=0.10->matplotlib) (1.12.0)\r\n",
            "Requirement already satisfied: setuptools in /data/keeling/a/prateek7/anaconda3/lib/python3.7/site-packages (from kiwisolver>=1.0.1->matplotlib) (46.1.3)\r\n"
          ],
          "name": "stdout"
        }
      ]
    },
    {
      "cell_type": "code",
      "metadata": {
        "id": "qH3iUQt5N03k",
        "colab_type": "code",
        "colab": {},
        "outputId": "217c38d3-4550-4abc-87f1-4a31fca26faf"
      },
      "source": [
        "# Setup 5\n",
        "!pip install shapely\n",
        "!pip install geopy\n",
        "!pip install metpy\n",
        "!pip install descartes"
      ],
      "execution_count": 0,
      "outputs": [
        {
          "output_type": "stream",
          "text": [
            "Requirement already satisfied: shapely in /data/keeling/a/prateek7/anaconda3/lib/python3.7/site-packages (1.7.0)\n",
            "Requirement already satisfied: geopy in /data/keeling/a/prateek7/anaconda3/lib/python3.7/site-packages (1.21.0)\n",
            "Requirement already satisfied: geographiclib<2,>=1.49 in /data/keeling/a/prateek7/anaconda3/lib/python3.7/site-packages (from geopy) (1.50)\n",
            "Requirement already satisfied: metpy in /data/keeling/a/prateek7/anaconda3/lib/python3.7/site-packages (0.12.1)\n",
            "Requirement already satisfied: numpy>=1.16.0 in /data/keeling/a/prateek7/anaconda3/lib/python3.7/site-packages (from metpy) (1.16.2)\n",
            "Requirement already satisfied: pandas>=0.22.0 in /data/keeling/a/prateek7/anaconda3/lib/python3.7/site-packages (from metpy) (0.24.2)\n",
            "Requirement already satisfied: pooch>=0.1 in /data/keeling/a/prateek7/anaconda3/lib/python3.7/site-packages (from metpy) (1.1.0)\n",
            "Requirement already satisfied: traitlets>=4.3.0 in /data/keeling/a/prateek7/anaconda3/lib/python3.7/site-packages (from metpy) (4.3.2)\n",
            "Requirement already satisfied: scipy>=1.0 in /data/keeling/a/prateek7/anaconda3/lib/python3.7/site-packages (from metpy) (1.4.1)\n",
            "Requirement already satisfied: xarray>=0.13.0 in /data/keeling/a/prateek7/anaconda3/lib/python3.7/site-packages (from metpy) (0.15.1)\n",
            "Requirement already satisfied: pint>=0.10.1 in /data/keeling/a/prateek7/anaconda3/lib/python3.7/site-packages (from metpy) (0.11)\n",
            "Requirement already satisfied: matplotlib>=2.1.0 in /data/keeling/a/prateek7/anaconda3/lib/python3.7/site-packages (from metpy) (3.0.3)\n",
            "Requirement already satisfied: pytz>=2011k in /data/keeling/a/prateek7/anaconda3/lib/python3.7/site-packages (from pandas>=0.22.0->metpy) (2018.9)\n",
            "Requirement already satisfied: python-dateutil>=2.5.0 in /data/keeling/a/prateek7/anaconda3/lib/python3.7/site-packages (from pandas>=0.22.0->metpy) (2.8.0)\n",
            "Requirement already satisfied: requests in /data/keeling/a/prateek7/anaconda3/lib/python3.7/site-packages (from pooch>=0.1->metpy) (2.21.0)\n",
            "Requirement already satisfied: appdirs in /data/keeling/a/prateek7/anaconda3/lib/python3.7/site-packages (from pooch>=0.1->metpy) (1.4.3)\n",
            "Requirement already satisfied: packaging in /data/keeling/a/prateek7/anaconda3/lib/python3.7/site-packages (from pooch>=0.1->metpy) (19.0)\n",
            "Requirement already satisfied: ipython-genutils in /data/keeling/a/prateek7/anaconda3/lib/python3.7/site-packages (from traitlets>=4.3.0->metpy) (0.2.0)\n",
            "Requirement already satisfied: six in /data/keeling/a/prateek7/anaconda3/lib/python3.7/site-packages (from traitlets>=4.3.0->metpy) (1.12.0)\n",
            "Requirement already satisfied: decorator in /data/keeling/a/prateek7/anaconda3/lib/python3.7/site-packages (from traitlets>=4.3.0->metpy) (4.4.0)\n",
            "Requirement already satisfied: setuptools>=41.2 in /data/keeling/a/prateek7/anaconda3/lib/python3.7/site-packages (from xarray>=0.13.0->metpy) (46.1.3)\n",
            "Requirement already satisfied: cycler>=0.10 in /data/keeling/a/prateek7/anaconda3/lib/python3.7/site-packages (from matplotlib>=2.1.0->metpy) (0.10.0)\n",
            "Requirement already satisfied: kiwisolver>=1.0.1 in /data/keeling/a/prateek7/anaconda3/lib/python3.7/site-packages (from matplotlib>=2.1.0->metpy) (1.0.1)\n",
            "Requirement already satisfied: pyparsing!=2.0.4,!=2.1.2,!=2.1.6,>=2.0.1 in /data/keeling/a/prateek7/anaconda3/lib/python3.7/site-packages (from matplotlib>=2.1.0->metpy) (2.3.1)\n",
            "Requirement already satisfied: idna<2.9,>=2.5 in /data/keeling/a/prateek7/anaconda3/lib/python3.7/site-packages (from requests->pooch>=0.1->metpy) (2.8)\n",
            "Requirement already satisfied: chardet<3.1.0,>=3.0.2 in /data/keeling/a/prateek7/anaconda3/lib/python3.7/site-packages (from requests->pooch>=0.1->metpy) (3.0.4)\n",
            "Requirement already satisfied: certifi>=2017.4.17 in /data/keeling/a/prateek7/anaconda3/lib/python3.7/site-packages (from requests->pooch>=0.1->metpy) (2019.3.9)\n",
            "Requirement already satisfied: urllib3<1.25,>=1.21.1 in /data/keeling/a/prateek7/anaconda3/lib/python3.7/site-packages (from requests->pooch>=0.1->metpy) (1.24.1)\n",
            "Requirement already satisfied: descartes in /data/keeling/a/prateek7/anaconda3/lib/python3.7/site-packages (1.1.0)\n",
            "Requirement already satisfied: matplotlib in /data/keeling/a/prateek7/anaconda3/lib/python3.7/site-packages (from descartes) (3.0.3)\n",
            "Requirement already satisfied: numpy>=1.10.0 in /data/keeling/a/prateek7/anaconda3/lib/python3.7/site-packages (from matplotlib->descartes) (1.16.2)\n",
            "Requirement already satisfied: cycler>=0.10 in /data/keeling/a/prateek7/anaconda3/lib/python3.7/site-packages (from matplotlib->descartes) (0.10.0)\n",
            "Requirement already satisfied: kiwisolver>=1.0.1 in /data/keeling/a/prateek7/anaconda3/lib/python3.7/site-packages (from matplotlib->descartes) (1.0.1)\n",
            "Requirement already satisfied: pyparsing!=2.0.4,!=2.1.2,!=2.1.6,>=2.0.1 in /data/keeling/a/prateek7/anaconda3/lib/python3.7/site-packages (from matplotlib->descartes) (2.3.1)\n",
            "Requirement already satisfied: python-dateutil>=2.1 in /data/keeling/a/prateek7/anaconda3/lib/python3.7/site-packages (from matplotlib->descartes) (2.8.0)\n",
            "Requirement already satisfied: six in /data/keeling/a/prateek7/anaconda3/lib/python3.7/site-packages (from cycler>=0.10->matplotlib->descartes) (1.12.0)\n",
            "Requirement already satisfied: setuptools in /data/keeling/a/prateek7/anaconda3/lib/python3.7/site-packages (from kiwisolver>=1.0.1->matplotlib->descartes) (46.1.3)\n"
          ],
          "name": "stdout"
        }
      ]
    },
    {
      "cell_type": "code",
      "metadata": {
        "id": "71f5RTQxN03m",
        "colab_type": "code",
        "colab": {}
      },
      "source": [
        "# Import libraries\n",
        "\n",
        "%matplotlib inline\n",
        "import sys\n",
        "import copy\n",
        "import warnings\n",
        "import matplotlib.pyplot as pyplot\n",
        "import pandas as pd\n",
        "import io \n",
        "import numpy as np\n",
        "from pandas.tseries.offsets import MonthEnd\n",
        "from pandas.api.types import CategoricalDtype\n",
        "import matplotlib.pyplot as plt\n",
        "import seaborn as sns; sns.set()\n",
        "from sklearn.metrics import mean_squared_error\n",
        "from math import sqrt"
      ],
      "execution_count": 0,
      "outputs": []
    },
    {
      "cell_type": "markdown",
      "metadata": {
        "id": "2KR1oTJYN03o",
        "colab_type": "text"
      },
      "source": [
        "# Input data into pandas dataframe"
      ]
    },
    {
      "cell_type": "markdown",
      "metadata": {
        "id": "dww-n9IQN03p",
        "colab_type": "text"
      },
      "source": [
        "Data: KGRB (WI) 5-minute Automated Surface Observation System data available from NCDC \n",
        "    \n",
        "Read 5-min ASOS observations from 2000-2020 data period"
      ]
    },
    {
      "cell_type": "code",
      "metadata": {
        "id": "b_XAfeuYN03q",
        "colab_type": "code",
        "colab": {}
      },
      "source": [
        "#KGRB_precip=pd.read_csv('KGRB_precip.csv')\n",
        "KGRB_precip=pd.read_csv('/data/keeling/a/ler5/python/pyradartutorials/00_introduction/KGRB_precip.csv')"
      ],
      "execution_count": 0,
      "outputs": []
    },
    {
      "cell_type": "code",
      "metadata": {
        "id": "umPl8PilN03s",
        "colab_type": "code",
        "colab": {},
        "outputId": "75db5d5d-dce6-43b3-e18c-2a9605edda1a"
      },
      "source": [
        "print(KGRB_precip.columns.values)"
      ],
      "execution_count": 0,
      "outputs": [
        {
          "output_type": "stream",
          "text": [
            "['station_id' 'latitude' 'longitude' 'elevation' 'date_time'\n",
            " 'wind_direction' 'wind_speed' 'current_wx1' 'current_wx2' 'current_wx3'\n",
            " 'low_cloud_type' 'low_cloud_level' 'medium_cloud_type'\n",
            " 'medium_cloud_level' 'high_cloud_type' 'high_cloud_level'\n",
            " 'highest_cloud_type' 'highest_cloud_level' 'cloud_coverage'\n",
            " 'air_temperature' 'dew_point_temperature' 'altimeter' 'present_weather'\n",
            " 'past_weather' 'past_weather2' 'air_pressure_at_sea_level'\n",
            " 'eastward_wind' 'northward_wind']\n"
          ],
          "name": "stdout"
        }
      ]
    },
    {
      "cell_type": "code",
      "metadata": {
        "id": "8WbD4sSLN03v",
        "colab_type": "code",
        "colab": {},
        "outputId": "7694b341-89e8-4734-af85-6d2b1d42ebdc"
      },
      "source": [
        "KGRB_precip"
      ],
      "execution_count": 0,
      "outputs": [
        {
          "output_type": "execute_result",
          "data": {
            "text/html": [
              "<div>\n",
              "<style scoped>\n",
              "    .dataframe tbody tr th:only-of-type {\n",
              "        vertical-align: middle;\n",
              "    }\n",
              "\n",
              "    .dataframe tbody tr th {\n",
              "        vertical-align: top;\n",
              "    }\n",
              "\n",
              "    .dataframe thead th {\n",
              "        text-align: right;\n",
              "    }\n",
              "</style>\n",
              "<table border=\"1\" class=\"dataframe\">\n",
              "  <thead>\n",
              "    <tr style=\"text-align: right;\">\n",
              "      <th></th>\n",
              "      <th>station_id</th>\n",
              "      <th>latitude</th>\n",
              "      <th>longitude</th>\n",
              "      <th>elevation</th>\n",
              "      <th>date_time</th>\n",
              "      <th>wind_direction</th>\n",
              "      <th>wind_speed</th>\n",
              "      <th>current_wx1</th>\n",
              "      <th>current_wx2</th>\n",
              "      <th>current_wx3</th>\n",
              "      <th>...</th>\n",
              "      <th>cloud_coverage</th>\n",
              "      <th>air_temperature</th>\n",
              "      <th>dew_point_temperature</th>\n",
              "      <th>altimeter</th>\n",
              "      <th>present_weather</th>\n",
              "      <th>past_weather</th>\n",
              "      <th>past_weather2</th>\n",
              "      <th>air_pressure_at_sea_level</th>\n",
              "      <th>eastward_wind</th>\n",
              "      <th>northward_wind</th>\n",
              "    </tr>\n",
              "  </thead>\n",
              "  <tbody>\n",
              "    <tr>\n",
              "      <td>0</td>\n",
              "      <td>KGRB</td>\n",
              "      <td>44.48</td>\n",
              "      <td>-88.13</td>\n",
              "      <td>208.0</td>\n",
              "      <td>2000-01-01 00:00:00</td>\n",
              "      <td>250.0</td>\n",
              "      <td>8.0</td>\n",
              "      <td>-SN</td>\n",
              "      <td>NaN</td>\n",
              "      <td>NaN</td>\n",
              "      <td>...</td>\n",
              "      <td>8</td>\n",
              "      <td>-5.0</td>\n",
              "      <td>-9.0</td>\n",
              "      <td>29.84</td>\n",
              "      <td>71</td>\n",
              "      <td>0</td>\n",
              "      <td>0</td>\n",
              "      <td>NaN</td>\n",
              "      <td>7.517541</td>\n",
              "      <td>2.736161</td>\n",
              "    </tr>\n",
              "    <tr>\n",
              "      <td>1</td>\n",
              "      <td>KGRB</td>\n",
              "      <td>44.48</td>\n",
              "      <td>-88.13</td>\n",
              "      <td>208.0</td>\n",
              "      <td>2000-01-01 00:05:00</td>\n",
              "      <td>260.0</td>\n",
              "      <td>8.0</td>\n",
              "      <td>-SN</td>\n",
              "      <td>NaN</td>\n",
              "      <td>NaN</td>\n",
              "      <td>...</td>\n",
              "      <td>8</td>\n",
              "      <td>-5.0</td>\n",
              "      <td>-9.0</td>\n",
              "      <td>29.84</td>\n",
              "      <td>71</td>\n",
              "      <td>0</td>\n",
              "      <td>0</td>\n",
              "      <td>NaN</td>\n",
              "      <td>7.878462</td>\n",
              "      <td>1.389185</td>\n",
              "    </tr>\n",
              "    <tr>\n",
              "      <td>2</td>\n",
              "      <td>KGRB</td>\n",
              "      <td>44.48</td>\n",
              "      <td>-88.13</td>\n",
              "      <td>208.0</td>\n",
              "      <td>2000-01-01 00:10:00</td>\n",
              "      <td>260.0</td>\n",
              "      <td>9.0</td>\n",
              "      <td>-SN</td>\n",
              "      <td>NaN</td>\n",
              "      <td>NaN</td>\n",
              "      <td>...</td>\n",
              "      <td>8</td>\n",
              "      <td>-5.0</td>\n",
              "      <td>-9.0</td>\n",
              "      <td>29.84</td>\n",
              "      <td>71</td>\n",
              "      <td>0</td>\n",
              "      <td>0</td>\n",
              "      <td>NaN</td>\n",
              "      <td>8.863270</td>\n",
              "      <td>1.562834</td>\n",
              "    </tr>\n",
              "    <tr>\n",
              "      <td>3</td>\n",
              "      <td>KGRB</td>\n",
              "      <td>44.48</td>\n",
              "      <td>-88.13</td>\n",
              "      <td>208.0</td>\n",
              "      <td>2000-01-01 00:15:00</td>\n",
              "      <td>250.0</td>\n",
              "      <td>7.0</td>\n",
              "      <td>-SN</td>\n",
              "      <td>NaN</td>\n",
              "      <td>NaN</td>\n",
              "      <td>...</td>\n",
              "      <td>8</td>\n",
              "      <td>-5.0</td>\n",
              "      <td>-9.0</td>\n",
              "      <td>29.84</td>\n",
              "      <td>71</td>\n",
              "      <td>0</td>\n",
              "      <td>0</td>\n",
              "      <td>NaN</td>\n",
              "      <td>6.577848</td>\n",
              "      <td>2.394141</td>\n",
              "    </tr>\n",
              "    <tr>\n",
              "      <td>4</td>\n",
              "      <td>KGRB</td>\n",
              "      <td>44.48</td>\n",
              "      <td>-88.13</td>\n",
              "      <td>208.0</td>\n",
              "      <td>2000-01-01 00:20:00</td>\n",
              "      <td>250.0</td>\n",
              "      <td>8.0</td>\n",
              "      <td>-SN</td>\n",
              "      <td>NaN</td>\n",
              "      <td>NaN</td>\n",
              "      <td>...</td>\n",
              "      <td>8</td>\n",
              "      <td>-5.0</td>\n",
              "      <td>-9.0</td>\n",
              "      <td>29.85</td>\n",
              "      <td>71</td>\n",
              "      <td>0</td>\n",
              "      <td>0</td>\n",
              "      <td>NaN</td>\n",
              "      <td>7.517541</td>\n",
              "      <td>2.736161</td>\n",
              "    </tr>\n",
              "    <tr>\n",
              "      <td>...</td>\n",
              "      <td>...</td>\n",
              "      <td>...</td>\n",
              "      <td>...</td>\n",
              "      <td>...</td>\n",
              "      <td>...</td>\n",
              "      <td>...</td>\n",
              "      <td>...</td>\n",
              "      <td>...</td>\n",
              "      <td>...</td>\n",
              "      <td>...</td>\n",
              "      <td>...</td>\n",
              "      <td>...</td>\n",
              "      <td>...</td>\n",
              "      <td>...</td>\n",
              "      <td>...</td>\n",
              "      <td>...</td>\n",
              "      <td>...</td>\n",
              "      <td>...</td>\n",
              "      <td>...</td>\n",
              "      <td>...</td>\n",
              "      <td>...</td>\n",
              "    </tr>\n",
              "    <tr>\n",
              "      <td>162303</td>\n",
              "      <td>KGRB</td>\n",
              "      <td>44.48</td>\n",
              "      <td>-88.13</td>\n",
              "      <td>208.0</td>\n",
              "      <td>2020-03-31 14:10:00</td>\n",
              "      <td>20.0</td>\n",
              "      <td>13.0</td>\n",
              "      <td>-SN</td>\n",
              "      <td>BR</td>\n",
              "      <td>NaN</td>\n",
              "      <td>...</td>\n",
              "      <td>8</td>\n",
              "      <td>1.0</td>\n",
              "      <td>-1.0</td>\n",
              "      <td>30.13</td>\n",
              "      <td>71</td>\n",
              "      <td>10</td>\n",
              "      <td>0</td>\n",
              "      <td>NaN</td>\n",
              "      <td>-4.446262</td>\n",
              "      <td>-12.216004</td>\n",
              "    </tr>\n",
              "    <tr>\n",
              "      <td>162304</td>\n",
              "      <td>KGRB</td>\n",
              "      <td>44.48</td>\n",
              "      <td>-88.13</td>\n",
              "      <td>208.0</td>\n",
              "      <td>2020-03-31 14:15:00</td>\n",
              "      <td>20.0</td>\n",
              "      <td>14.0</td>\n",
              "      <td>-SN</td>\n",
              "      <td>BR</td>\n",
              "      <td>NaN</td>\n",
              "      <td>...</td>\n",
              "      <td>8</td>\n",
              "      <td>1.0</td>\n",
              "      <td>-1.0</td>\n",
              "      <td>30.13</td>\n",
              "      <td>71</td>\n",
              "      <td>10</td>\n",
              "      <td>0</td>\n",
              "      <td>NaN</td>\n",
              "      <td>-4.788282</td>\n",
              "      <td>-13.155697</td>\n",
              "    </tr>\n",
              "    <tr>\n",
              "      <td>162305</td>\n",
              "      <td>KGRB</td>\n",
              "      <td>44.48</td>\n",
              "      <td>-88.13</td>\n",
              "      <td>208.0</td>\n",
              "      <td>2020-03-31 14:20:00</td>\n",
              "      <td>30.0</td>\n",
              "      <td>13.0</td>\n",
              "      <td>-SN</td>\n",
              "      <td>BR</td>\n",
              "      <td>NaN</td>\n",
              "      <td>...</td>\n",
              "      <td>8</td>\n",
              "      <td>1.0</td>\n",
              "      <td>-1.0</td>\n",
              "      <td>30.13</td>\n",
              "      <td>71</td>\n",
              "      <td>10</td>\n",
              "      <td>0</td>\n",
              "      <td>NaN</td>\n",
              "      <td>-6.500000</td>\n",
              "      <td>-11.258330</td>\n",
              "    </tr>\n",
              "    <tr>\n",
              "      <td>162306</td>\n",
              "      <td>KGRB</td>\n",
              "      <td>44.48</td>\n",
              "      <td>-88.13</td>\n",
              "      <td>208.0</td>\n",
              "      <td>2020-03-31 14:25:00</td>\n",
              "      <td>30.0</td>\n",
              "      <td>14.0</td>\n",
              "      <td>-SN</td>\n",
              "      <td>BR</td>\n",
              "      <td>NaN</td>\n",
              "      <td>...</td>\n",
              "      <td>8</td>\n",
              "      <td>1.0</td>\n",
              "      <td>-1.0</td>\n",
              "      <td>30.13</td>\n",
              "      <td>71</td>\n",
              "      <td>10</td>\n",
              "      <td>0</td>\n",
              "      <td>NaN</td>\n",
              "      <td>-7.000000</td>\n",
              "      <td>-12.124356</td>\n",
              "    </tr>\n",
              "    <tr>\n",
              "      <td>162307</td>\n",
              "      <td>KGRB</td>\n",
              "      <td>44.48</td>\n",
              "      <td>-88.13</td>\n",
              "      <td>208.0</td>\n",
              "      <td>2020-03-31 15:00:00</td>\n",
              "      <td>40.0</td>\n",
              "      <td>14.0</td>\n",
              "      <td>-RA</td>\n",
              "      <td>NaN</td>\n",
              "      <td>NaN</td>\n",
              "      <td>...</td>\n",
              "      <td>8</td>\n",
              "      <td>1.0</td>\n",
              "      <td>-1.0</td>\n",
              "      <td>30.13</td>\n",
              "      <td>61</td>\n",
              "      <td>0</td>\n",
              "      <td>0</td>\n",
              "      <td>NaN</td>\n",
              "      <td>-8.999027</td>\n",
              "      <td>-10.724622</td>\n",
              "    </tr>\n",
              "  </tbody>\n",
              "</table>\n",
              "<p>162308 rows × 28 columns</p>\n",
              "</div>"
            ],
            "text/plain": [
              "       station_id  latitude  longitude  elevation            date_time  \\\n",
              "0            KGRB     44.48     -88.13      208.0  2000-01-01 00:00:00   \n",
              "1            KGRB     44.48     -88.13      208.0  2000-01-01 00:05:00   \n",
              "2            KGRB     44.48     -88.13      208.0  2000-01-01 00:10:00   \n",
              "3            KGRB     44.48     -88.13      208.0  2000-01-01 00:15:00   \n",
              "4            KGRB     44.48     -88.13      208.0  2000-01-01 00:20:00   \n",
              "...           ...       ...        ...        ...                  ...   \n",
              "162303       KGRB     44.48     -88.13      208.0  2020-03-31 14:10:00   \n",
              "162304       KGRB     44.48     -88.13      208.0  2020-03-31 14:15:00   \n",
              "162305       KGRB     44.48     -88.13      208.0  2020-03-31 14:20:00   \n",
              "162306       KGRB     44.48     -88.13      208.0  2020-03-31 14:25:00   \n",
              "162307       KGRB     44.48     -88.13      208.0  2020-03-31 15:00:00   \n",
              "\n",
              "        wind_direction  wind_speed current_wx1 current_wx2  current_wx3  ...  \\\n",
              "0                250.0         8.0         -SN         NaN          NaN  ...   \n",
              "1                260.0         8.0         -SN         NaN          NaN  ...   \n",
              "2                260.0         9.0         -SN         NaN          NaN  ...   \n",
              "3                250.0         7.0         -SN         NaN          NaN  ...   \n",
              "4                250.0         8.0         -SN         NaN          NaN  ...   \n",
              "...                ...         ...         ...         ...          ...  ...   \n",
              "162303            20.0        13.0         -SN          BR          NaN  ...   \n",
              "162304            20.0        14.0         -SN          BR          NaN  ...   \n",
              "162305            30.0        13.0         -SN          BR          NaN  ...   \n",
              "162306            30.0        14.0         -SN          BR          NaN  ...   \n",
              "162307            40.0        14.0         -RA         NaN          NaN  ...   \n",
              "\n",
              "       cloud_coverage  air_temperature dew_point_temperature  altimeter  \\\n",
              "0                   8             -5.0                  -9.0      29.84   \n",
              "1                   8             -5.0                  -9.0      29.84   \n",
              "2                   8             -5.0                  -9.0      29.84   \n",
              "3                   8             -5.0                  -9.0      29.84   \n",
              "4                   8             -5.0                  -9.0      29.85   \n",
              "...               ...              ...                   ...        ...   \n",
              "162303              8              1.0                  -1.0      30.13   \n",
              "162304              8              1.0                  -1.0      30.13   \n",
              "162305              8              1.0                  -1.0      30.13   \n",
              "162306              8              1.0                  -1.0      30.13   \n",
              "162307              8              1.0                  -1.0      30.13   \n",
              "\n",
              "       present_weather  past_weather  past_weather2  \\\n",
              "0                   71             0              0   \n",
              "1                   71             0              0   \n",
              "2                   71             0              0   \n",
              "3                   71             0              0   \n",
              "4                   71             0              0   \n",
              "...                ...           ...            ...   \n",
              "162303              71            10              0   \n",
              "162304              71            10              0   \n",
              "162305              71            10              0   \n",
              "162306              71            10              0   \n",
              "162307              61             0              0   \n",
              "\n",
              "        air_pressure_at_sea_level  eastward_wind  northward_wind  \n",
              "0                             NaN       7.517541        2.736161  \n",
              "1                             NaN       7.878462        1.389185  \n",
              "2                             NaN       8.863270        1.562834  \n",
              "3                             NaN       6.577848        2.394141  \n",
              "4                             NaN       7.517541        2.736161  \n",
              "...                           ...            ...             ...  \n",
              "162303                        NaN      -4.446262      -12.216004  \n",
              "162304                        NaN      -4.788282      -13.155697  \n",
              "162305                        NaN      -6.500000      -11.258330  \n",
              "162306                        NaN      -7.000000      -12.124356  \n",
              "162307                        NaN      -8.999027      -10.724622  \n",
              "\n",
              "[162308 rows x 28 columns]"
            ]
          },
          "metadata": {
            "tags": []
          },
          "execution_count": 5
        }
      ]
    },
    {
      "cell_type": "markdown",
      "metadata": {
        "id": "ZxUKJVYQN03x",
        "colab_type": "text"
      },
      "source": [
        "Read 5-min observations from 1-year data period (for developing code purposes)"
      ]
    },
    {
      "cell_type": "code",
      "metadata": {
        "id": "JaM5TTHQN03x",
        "colab_type": "code",
        "colab": {}
      },
      "source": [
        "precip2000=pd.read_csv('/data/keeling/a/ler5/python/pyradartutorials/00_introduction/df2000.csv')"
      ],
      "execution_count": 0,
      "outputs": []
    },
    {
      "cell_type": "code",
      "metadata": {
        "id": "OC8PO9IiN03z",
        "colab_type": "code",
        "colab": {}
      },
      "source": [
        "precip2001=pd.read_csv('/data/keeling/a/ler5/python/pyradartutorials/00_introduction/df2001.csv')"
      ],
      "execution_count": 0,
      "outputs": []
    },
    {
      "cell_type": "code",
      "metadata": {
        "id": "BaGlq5SlN030",
        "colab_type": "code",
        "colab": {},
        "outputId": "9b42af89-010a-4f5d-8131-33d3616363e1"
      },
      "source": [
        "print(precip2000.columns.values)"
      ],
      "execution_count": 0,
      "outputs": [
        {
          "output_type": "stream",
          "text": [
            "['station_id' 'latitude' 'longitude' 'elevation' 'date_time'\n",
            " 'wind_direction' 'wind_speed' 'current_wx1' 'current_wx2' 'current_wx3'\n",
            " 'low_cloud_type' 'low_cloud_level' 'medium_cloud_type'\n",
            " 'medium_cloud_level' 'high_cloud_type' 'high_cloud_level'\n",
            " 'highest_cloud_type' 'highest_cloud_level' 'cloud_coverage'\n",
            " 'air_temperature' 'dew_point_temperature' 'altimeter' 'present_weather'\n",
            " 'past_weather' 'past_weather2' 'air_pressure_at_sea_level'\n",
            " 'eastward_wind' 'northward_wind']\n"
          ],
          "name": "stdout"
        }
      ]
    },
    {
      "cell_type": "code",
      "metadata": {
        "scrolled": true,
        "id": "HkNmHPdXN031",
        "colab_type": "code",
        "colab": {},
        "outputId": "ef13c707-a983-4fd7-990d-86597ccd9a24"
      },
      "source": [
        "precip2000"
      ],
      "execution_count": 0,
      "outputs": [
        {
          "output_type": "execute_result",
          "data": {
            "text/html": [
              "<div>\n",
              "<style scoped>\n",
              "    .dataframe tbody tr th:only-of-type {\n",
              "        vertical-align: middle;\n",
              "    }\n",
              "\n",
              "    .dataframe tbody tr th {\n",
              "        vertical-align: top;\n",
              "    }\n",
              "\n",
              "    .dataframe thead th {\n",
              "        text-align: right;\n",
              "    }\n",
              "</style>\n",
              "<table border=\"1\" class=\"dataframe\">\n",
              "  <thead>\n",
              "    <tr style=\"text-align: right;\">\n",
              "      <th></th>\n",
              "      <th>station_id</th>\n",
              "      <th>latitude</th>\n",
              "      <th>longitude</th>\n",
              "      <th>elevation</th>\n",
              "      <th>date_time</th>\n",
              "      <th>wind_direction</th>\n",
              "      <th>wind_speed</th>\n",
              "      <th>current_wx1</th>\n",
              "      <th>current_wx2</th>\n",
              "      <th>current_wx3</th>\n",
              "      <th>...</th>\n",
              "      <th>cloud_coverage</th>\n",
              "      <th>air_temperature</th>\n",
              "      <th>dew_point_temperature</th>\n",
              "      <th>altimeter</th>\n",
              "      <th>present_weather</th>\n",
              "      <th>past_weather</th>\n",
              "      <th>past_weather2</th>\n",
              "      <th>air_pressure_at_sea_level</th>\n",
              "      <th>eastward_wind</th>\n",
              "      <th>northward_wind</th>\n",
              "    </tr>\n",
              "  </thead>\n",
              "  <tbody>\n",
              "    <tr>\n",
              "      <td>0</td>\n",
              "      <td>KGRB</td>\n",
              "      <td>44.48</td>\n",
              "      <td>-88.13</td>\n",
              "      <td>208.0</td>\n",
              "      <td>2000-01-01 00:00:00</td>\n",
              "      <td>250.0</td>\n",
              "      <td>8.0</td>\n",
              "      <td>-SN</td>\n",
              "      <td>NaN</td>\n",
              "      <td>NaN</td>\n",
              "      <td>...</td>\n",
              "      <td>8</td>\n",
              "      <td>-5.0</td>\n",
              "      <td>-9.0</td>\n",
              "      <td>29.84</td>\n",
              "      <td>71</td>\n",
              "      <td>0</td>\n",
              "      <td>0</td>\n",
              "      <td>NaN</td>\n",
              "      <td>7.517541</td>\n",
              "      <td>2.736161</td>\n",
              "    </tr>\n",
              "    <tr>\n",
              "      <td>1</td>\n",
              "      <td>KGRB</td>\n",
              "      <td>44.48</td>\n",
              "      <td>-88.13</td>\n",
              "      <td>208.0</td>\n",
              "      <td>2000-01-01 00:05:00</td>\n",
              "      <td>260.0</td>\n",
              "      <td>8.0</td>\n",
              "      <td>-SN</td>\n",
              "      <td>NaN</td>\n",
              "      <td>NaN</td>\n",
              "      <td>...</td>\n",
              "      <td>8</td>\n",
              "      <td>-5.0</td>\n",
              "      <td>-9.0</td>\n",
              "      <td>29.84</td>\n",
              "      <td>71</td>\n",
              "      <td>0</td>\n",
              "      <td>0</td>\n",
              "      <td>NaN</td>\n",
              "      <td>7.878462</td>\n",
              "      <td>1.389185</td>\n",
              "    </tr>\n",
              "    <tr>\n",
              "      <td>2</td>\n",
              "      <td>KGRB</td>\n",
              "      <td>44.48</td>\n",
              "      <td>-88.13</td>\n",
              "      <td>208.0</td>\n",
              "      <td>2000-01-01 00:10:00</td>\n",
              "      <td>260.0</td>\n",
              "      <td>9.0</td>\n",
              "      <td>-SN</td>\n",
              "      <td>NaN</td>\n",
              "      <td>NaN</td>\n",
              "      <td>...</td>\n",
              "      <td>8</td>\n",
              "      <td>-5.0</td>\n",
              "      <td>-9.0</td>\n",
              "      <td>29.84</td>\n",
              "      <td>71</td>\n",
              "      <td>0</td>\n",
              "      <td>0</td>\n",
              "      <td>NaN</td>\n",
              "      <td>8.863270</td>\n",
              "      <td>1.562834</td>\n",
              "    </tr>\n",
              "    <tr>\n",
              "      <td>3</td>\n",
              "      <td>KGRB</td>\n",
              "      <td>44.48</td>\n",
              "      <td>-88.13</td>\n",
              "      <td>208.0</td>\n",
              "      <td>2000-01-01 00:15:00</td>\n",
              "      <td>250.0</td>\n",
              "      <td>7.0</td>\n",
              "      <td>-SN</td>\n",
              "      <td>NaN</td>\n",
              "      <td>NaN</td>\n",
              "      <td>...</td>\n",
              "      <td>8</td>\n",
              "      <td>-5.0</td>\n",
              "      <td>-9.0</td>\n",
              "      <td>29.84</td>\n",
              "      <td>71</td>\n",
              "      <td>0</td>\n",
              "      <td>0</td>\n",
              "      <td>NaN</td>\n",
              "      <td>6.577848</td>\n",
              "      <td>2.394141</td>\n",
              "    </tr>\n",
              "    <tr>\n",
              "      <td>4</td>\n",
              "      <td>KGRB</td>\n",
              "      <td>44.48</td>\n",
              "      <td>-88.13</td>\n",
              "      <td>208.0</td>\n",
              "      <td>2000-01-01 00:20:00</td>\n",
              "      <td>250.0</td>\n",
              "      <td>8.0</td>\n",
              "      <td>-SN</td>\n",
              "      <td>NaN</td>\n",
              "      <td>NaN</td>\n",
              "      <td>...</td>\n",
              "      <td>8</td>\n",
              "      <td>-5.0</td>\n",
              "      <td>-9.0</td>\n",
              "      <td>29.85</td>\n",
              "      <td>71</td>\n",
              "      <td>0</td>\n",
              "      <td>0</td>\n",
              "      <td>NaN</td>\n",
              "      <td>7.517541</td>\n",
              "      <td>2.736161</td>\n",
              "    </tr>\n",
              "    <tr>\n",
              "      <td>...</td>\n",
              "      <td>...</td>\n",
              "      <td>...</td>\n",
              "      <td>...</td>\n",
              "      <td>...</td>\n",
              "      <td>...</td>\n",
              "      <td>...</td>\n",
              "      <td>...</td>\n",
              "      <td>...</td>\n",
              "      <td>...</td>\n",
              "      <td>...</td>\n",
              "      <td>...</td>\n",
              "      <td>...</td>\n",
              "      <td>...</td>\n",
              "      <td>...</td>\n",
              "      <td>...</td>\n",
              "      <td>...</td>\n",
              "      <td>...</td>\n",
              "      <td>...</td>\n",
              "      <td>...</td>\n",
              "      <td>...</td>\n",
              "      <td>...</td>\n",
              "    </tr>\n",
              "    <tr>\n",
              "      <td>9741</td>\n",
              "      <td>KGRB</td>\n",
              "      <td>44.48</td>\n",
              "      <td>-88.13</td>\n",
              "      <td>208.0</td>\n",
              "      <td>2000-12-29 18:40:00</td>\n",
              "      <td>30.0</td>\n",
              "      <td>13.0</td>\n",
              "      <td>-SN</td>\n",
              "      <td>BR</td>\n",
              "      <td>NaN</td>\n",
              "      <td>...</td>\n",
              "      <td>8</td>\n",
              "      <td>-5.0</td>\n",
              "      <td>-7.0</td>\n",
              "      <td>30.05</td>\n",
              "      <td>71</td>\n",
              "      <td>10</td>\n",
              "      <td>0</td>\n",
              "      <td>NaN</td>\n",
              "      <td>-6.500000</td>\n",
              "      <td>-11.258330</td>\n",
              "    </tr>\n",
              "    <tr>\n",
              "      <td>9742</td>\n",
              "      <td>KGRB</td>\n",
              "      <td>44.48</td>\n",
              "      <td>-88.13</td>\n",
              "      <td>208.0</td>\n",
              "      <td>2000-12-29 18:45:00</td>\n",
              "      <td>30.0</td>\n",
              "      <td>11.0</td>\n",
              "      <td>-SN</td>\n",
              "      <td>BR</td>\n",
              "      <td>NaN</td>\n",
              "      <td>...</td>\n",
              "      <td>8</td>\n",
              "      <td>-5.0</td>\n",
              "      <td>-7.0</td>\n",
              "      <td>30.05</td>\n",
              "      <td>71</td>\n",
              "      <td>10</td>\n",
              "      <td>0</td>\n",
              "      <td>NaN</td>\n",
              "      <td>-5.500000</td>\n",
              "      <td>-9.526279</td>\n",
              "    </tr>\n",
              "    <tr>\n",
              "      <td>9743</td>\n",
              "      <td>KGRB</td>\n",
              "      <td>44.48</td>\n",
              "      <td>-88.13</td>\n",
              "      <td>208.0</td>\n",
              "      <td>2000-12-29 18:50:00</td>\n",
              "      <td>30.0</td>\n",
              "      <td>12.0</td>\n",
              "      <td>-SN</td>\n",
              "      <td>BR</td>\n",
              "      <td>NaN</td>\n",
              "      <td>...</td>\n",
              "      <td>8</td>\n",
              "      <td>-5.0</td>\n",
              "      <td>-7.0</td>\n",
              "      <td>30.05</td>\n",
              "      <td>71</td>\n",
              "      <td>10</td>\n",
              "      <td>0</td>\n",
              "      <td>NaN</td>\n",
              "      <td>-6.000000</td>\n",
              "      <td>-10.392305</td>\n",
              "    </tr>\n",
              "    <tr>\n",
              "      <td>9744</td>\n",
              "      <td>KGRB</td>\n",
              "      <td>44.48</td>\n",
              "      <td>-88.13</td>\n",
              "      <td>208.0</td>\n",
              "      <td>2000-12-29 18:55:00</td>\n",
              "      <td>30.0</td>\n",
              "      <td>13.0</td>\n",
              "      <td>-SN</td>\n",
              "      <td>BR</td>\n",
              "      <td>NaN</td>\n",
              "      <td>...</td>\n",
              "      <td>8</td>\n",
              "      <td>-5.0</td>\n",
              "      <td>-7.0</td>\n",
              "      <td>30.05</td>\n",
              "      <td>71</td>\n",
              "      <td>10</td>\n",
              "      <td>0</td>\n",
              "      <td>NaN</td>\n",
              "      <td>-6.500000</td>\n",
              "      <td>-11.258330</td>\n",
              "    </tr>\n",
              "    <tr>\n",
              "      <td>9745</td>\n",
              "      <td>KGRB</td>\n",
              "      <td>44.48</td>\n",
              "      <td>-88.13</td>\n",
              "      <td>208.0</td>\n",
              "      <td>2000-12-29 19:00:00</td>\n",
              "      <td>30.0</td>\n",
              "      <td>16.0</td>\n",
              "      <td>-SN</td>\n",
              "      <td>BR</td>\n",
              "      <td>NaN</td>\n",
              "      <td>...</td>\n",
              "      <td>8</td>\n",
              "      <td>-5.0</td>\n",
              "      <td>-7.0</td>\n",
              "      <td>30.05</td>\n",
              "      <td>71</td>\n",
              "      <td>10</td>\n",
              "      <td>0</td>\n",
              "      <td>NaN</td>\n",
              "      <td>-8.000000</td>\n",
              "      <td>-13.856406</td>\n",
              "    </tr>\n",
              "  </tbody>\n",
              "</table>\n",
              "<p>9746 rows × 28 columns</p>\n",
              "</div>"
            ],
            "text/plain": [
              "     station_id  latitude  longitude  elevation            date_time  \\\n",
              "0          KGRB     44.48     -88.13      208.0  2000-01-01 00:00:00   \n",
              "1          KGRB     44.48     -88.13      208.0  2000-01-01 00:05:00   \n",
              "2          KGRB     44.48     -88.13      208.0  2000-01-01 00:10:00   \n",
              "3          KGRB     44.48     -88.13      208.0  2000-01-01 00:15:00   \n",
              "4          KGRB     44.48     -88.13      208.0  2000-01-01 00:20:00   \n",
              "...         ...       ...        ...        ...                  ...   \n",
              "9741       KGRB     44.48     -88.13      208.0  2000-12-29 18:40:00   \n",
              "9742       KGRB     44.48     -88.13      208.0  2000-12-29 18:45:00   \n",
              "9743       KGRB     44.48     -88.13      208.0  2000-12-29 18:50:00   \n",
              "9744       KGRB     44.48     -88.13      208.0  2000-12-29 18:55:00   \n",
              "9745       KGRB     44.48     -88.13      208.0  2000-12-29 19:00:00   \n",
              "\n",
              "      wind_direction  wind_speed current_wx1 current_wx2  current_wx3  ...  \\\n",
              "0              250.0         8.0         -SN         NaN          NaN  ...   \n",
              "1              260.0         8.0         -SN         NaN          NaN  ...   \n",
              "2              260.0         9.0         -SN         NaN          NaN  ...   \n",
              "3              250.0         7.0         -SN         NaN          NaN  ...   \n",
              "4              250.0         8.0         -SN         NaN          NaN  ...   \n",
              "...              ...         ...         ...         ...          ...  ...   \n",
              "9741            30.0        13.0         -SN          BR          NaN  ...   \n",
              "9742            30.0        11.0         -SN          BR          NaN  ...   \n",
              "9743            30.0        12.0         -SN          BR          NaN  ...   \n",
              "9744            30.0        13.0         -SN          BR          NaN  ...   \n",
              "9745            30.0        16.0         -SN          BR          NaN  ...   \n",
              "\n",
              "     cloud_coverage  air_temperature dew_point_temperature  altimeter  \\\n",
              "0                 8             -5.0                  -9.0      29.84   \n",
              "1                 8             -5.0                  -9.0      29.84   \n",
              "2                 8             -5.0                  -9.0      29.84   \n",
              "3                 8             -5.0                  -9.0      29.84   \n",
              "4                 8             -5.0                  -9.0      29.85   \n",
              "...             ...              ...                   ...        ...   \n",
              "9741              8             -5.0                  -7.0      30.05   \n",
              "9742              8             -5.0                  -7.0      30.05   \n",
              "9743              8             -5.0                  -7.0      30.05   \n",
              "9744              8             -5.0                  -7.0      30.05   \n",
              "9745              8             -5.0                  -7.0      30.05   \n",
              "\n",
              "     present_weather  past_weather  past_weather2  air_pressure_at_sea_level  \\\n",
              "0                 71             0              0                        NaN   \n",
              "1                 71             0              0                        NaN   \n",
              "2                 71             0              0                        NaN   \n",
              "3                 71             0              0                        NaN   \n",
              "4                 71             0              0                        NaN   \n",
              "...              ...           ...            ...                        ...   \n",
              "9741              71            10              0                        NaN   \n",
              "9742              71            10              0                        NaN   \n",
              "9743              71            10              0                        NaN   \n",
              "9744              71            10              0                        NaN   \n",
              "9745              71            10              0                        NaN   \n",
              "\n",
              "      eastward_wind  northward_wind  \n",
              "0          7.517541        2.736161  \n",
              "1          7.878462        1.389185  \n",
              "2          8.863270        1.562834  \n",
              "3          6.577848        2.394141  \n",
              "4          7.517541        2.736161  \n",
              "...             ...             ...  \n",
              "9741      -6.500000      -11.258330  \n",
              "9742      -5.500000       -9.526279  \n",
              "9743      -6.000000      -10.392305  \n",
              "9744      -6.500000      -11.258330  \n",
              "9745      -8.000000      -13.856406  \n",
              "\n",
              "[9746 rows x 28 columns]"
            ]
          },
          "metadata": {
            "tags": []
          },
          "execution_count": 9
        }
      ]
    },
    {
      "cell_type": "code",
      "metadata": {
        "id": "PsS8dItRN033",
        "colab_type": "code",
        "colab": {}
      },
      "source": [
        "# Datetime index for csv file\n",
        "precip2000.index = pd.to_datetime(precip2000.date_time)"
      ],
      "execution_count": 0,
      "outputs": []
    },
    {
      "cell_type": "markdown",
      "metadata": {
        "id": "nRoGbLyWN035",
        "colab_type": "text"
      },
      "source": [
        "Read features of categorical variable for classification"
      ]
    },
    {
      "cell_type": "code",
      "metadata": {
        "id": "wFkf6fNdN035",
        "colab_type": "code",
        "colab": {},
        "outputId": "26845759-5b67-437d-e14b-7460fcba29a5"
      },
      "source": [
        "# Multi-class, categorical variable with n-features\n",
        "levels = len(pd.value_counts(precip2000['current_wx1']))\n",
        "print('There are {} levels in the current_wx1 column'.format(levels))\n"
      ],
      "execution_count": 0,
      "outputs": [
        {
          "output_type": "stream",
          "text": [
            "There are 10 levels in the current_wx1 column\n"
          ],
          "name": "stdout"
        }
      ]
    },
    {
      "cell_type": "code",
      "metadata": {
        "id": "Q-X0-hRTN037",
        "colab_type": "code",
        "colab": {}
      },
      "source": [
        "# Columns of interest in dataframe\n",
        "precip2=pd.DataFrame()\n",
        "precip2['wind_speed']=precip2000['wind_speed']\n",
        "precip2['air_temperature']=precip2000['air_temperature']\n",
        "precip2['dew_point_temperature']=precip2000['dew_point_temperature']\n",
        "precip2['eastward_wind']=precip2000['eastward_wind']\n",
        "precip2['northward_wind']=precip2000['northward_wind']\n",
        "precip2['present_weather']=precip2000['present_weather']\n",
        "precip2['current_wx1']=precip2000['current_wx1']"
      ],
      "execution_count": 0,
      "outputs": []
    },
    {
      "cell_type": "markdown",
      "metadata": {
        "id": "qZzrgavPN039",
        "colab_type": "text"
      },
      "source": [
        "For ASOS observations from 2000-2020 data period"
      ]
    },
    {
      "cell_type": "code",
      "metadata": {
        "id": "MQOtp1gLN039",
        "colab_type": "code",
        "colab": {}
      },
      "source": [
        "precip1=pd.DataFrame()\n",
        "precip1['wind_speed']=KGRB_precip['wind_speed']\n",
        "precip1['air_temperature']=KGRB_precip['air_temperature']\n",
        "precip1['dew_point_temperature']=KGRB_precip['dew_point_temperature']\n",
        "precip1['eastward_wind']=KGRB_precip['eastward_wind']\n",
        "precip1['northward_wind']=KGRB_precip['northward_wind']\n",
        "precip1['present_weather']=KGRB_precip['present_weather']\n",
        "precip1['current_wx1']=KGRB_precip['current_wx1']"
      ],
      "execution_count": 0,
      "outputs": []
    },
    {
      "cell_type": "code",
      "metadata": {
        "id": "va8U3EPvN03_",
        "colab_type": "code",
        "colab": {}
      },
      "source": [
        "#precip1['current_wx1']"
      ],
      "execution_count": 0,
      "outputs": []
    },
    {
      "cell_type": "markdown",
      "metadata": {
        "id": "aGmkRmOUN04A",
        "colab_type": "text"
      },
      "source": [
        "Targets (Snow, Rain) for Binary Classification"
      ]
    },
    {
      "cell_type": "code",
      "metadata": {
        "id": "OsRUMbtvN04A",
        "colab_type": "code",
        "colab": {}
      },
      "source": [
        "targets = ['SN', 'RA']\n",
        "\n",
        "# Any word from `targets` are present in sentence.\n",
        "precip4=KGRB_precip[KGRB_precip.current_wx1.apply(lambda sentence: any(word in sentence for word in targets))]"
      ],
      "execution_count": 0,
      "outputs": []
    },
    {
      "cell_type": "code",
      "metadata": {
        "id": "ysCg7TmtN04C",
        "colab_type": "code",
        "colab": {}
      },
      "source": [
        "precip1=pd.DataFrame()\n",
        "precip1['wind_speed']=precip4['wind_speed']\n",
        "precip1['air_temperature']=precip4['air_temperature']\n",
        "precip1['dew_point_temperature']=precip4['dew_point_temperature']\n",
        "precip1['eastward_wind']=precip4['eastward_wind']\n",
        "precip1['northward_wind']=precip4['northward_wind']\n",
        "precip1['present_weather']=precip4['present_weather']\n",
        "precip1['current_wx1']=precip4['current_wx1']"
      ],
      "execution_count": 0,
      "outputs": []
    },
    {
      "cell_type": "markdown",
      "metadata": {
        "id": "jakQecNdN04G",
        "colab_type": "text"
      },
      "source": [
        "Drop mixed features (Snow and Rain)"
      ]
    },
    {
      "cell_type": "code",
      "metadata": {
        "id": "X_uk0A8UN04H",
        "colab_type": "code",
        "colab": {}
      },
      "source": [
        "precip1=precip1[precip1.current_wx1 != 'SNRA']"
      ],
      "execution_count": 0,
      "outputs": []
    },
    {
      "cell_type": "markdown",
      "metadata": {
        "id": "Y6jBH62sN04I",
        "colab_type": "text"
      },
      "source": [
        "Binarization"
      ]
    },
    {
      "cell_type": "code",
      "metadata": {
        "id": "2m5e2bN_N04J",
        "colab_type": "code",
        "colab": {}
      },
      "source": [
        "precip1['Snow']=precip1.current_wx1.apply(lambda x: 1 if x in ['SN','-SN', '+SN'] else 0)"
      ],
      "execution_count": 0,
      "outputs": []
    },
    {
      "cell_type": "code",
      "metadata": {
        "id": "Ar3vwt2jN04K",
        "colab_type": "code",
        "colab": {},
        "outputId": "f1dfbd90-7943-4753-e701-fe9e7e3da430"
      },
      "source": [
        "precip1"
      ],
      "execution_count": 0,
      "outputs": [
        {
          "output_type": "execute_result",
          "data": {
            "text/html": [
              "<div>\n",
              "<style scoped>\n",
              "    .dataframe tbody tr th:only-of-type {\n",
              "        vertical-align: middle;\n",
              "    }\n",
              "\n",
              "    .dataframe tbody tr th {\n",
              "        vertical-align: top;\n",
              "    }\n",
              "\n",
              "    .dataframe thead th {\n",
              "        text-align: right;\n",
              "    }\n",
              "</style>\n",
              "<table border=\"1\" class=\"dataframe\">\n",
              "  <thead>\n",
              "    <tr style=\"text-align: right;\">\n",
              "      <th></th>\n",
              "      <th>wind_speed</th>\n",
              "      <th>air_temperature</th>\n",
              "      <th>dew_point_temperature</th>\n",
              "      <th>eastward_wind</th>\n",
              "      <th>northward_wind</th>\n",
              "      <th>present_weather</th>\n",
              "      <th>current_wx1</th>\n",
              "      <th>Snow</th>\n",
              "    </tr>\n",
              "  </thead>\n",
              "  <tbody>\n",
              "    <tr>\n",
              "      <td>0</td>\n",
              "      <td>8.0</td>\n",
              "      <td>-5.0</td>\n",
              "      <td>-9.0</td>\n",
              "      <td>7.517541</td>\n",
              "      <td>2.736161</td>\n",
              "      <td>71</td>\n",
              "      <td>-SN</td>\n",
              "      <td>1</td>\n",
              "    </tr>\n",
              "    <tr>\n",
              "      <td>1</td>\n",
              "      <td>8.0</td>\n",
              "      <td>-5.0</td>\n",
              "      <td>-9.0</td>\n",
              "      <td>7.878462</td>\n",
              "      <td>1.389185</td>\n",
              "      <td>71</td>\n",
              "      <td>-SN</td>\n",
              "      <td>1</td>\n",
              "    </tr>\n",
              "    <tr>\n",
              "      <td>2</td>\n",
              "      <td>9.0</td>\n",
              "      <td>-5.0</td>\n",
              "      <td>-9.0</td>\n",
              "      <td>8.863270</td>\n",
              "      <td>1.562834</td>\n",
              "      <td>71</td>\n",
              "      <td>-SN</td>\n",
              "      <td>1</td>\n",
              "    </tr>\n",
              "    <tr>\n",
              "      <td>3</td>\n",
              "      <td>7.0</td>\n",
              "      <td>-5.0</td>\n",
              "      <td>-9.0</td>\n",
              "      <td>6.577848</td>\n",
              "      <td>2.394141</td>\n",
              "      <td>71</td>\n",
              "      <td>-SN</td>\n",
              "      <td>1</td>\n",
              "    </tr>\n",
              "    <tr>\n",
              "      <td>4</td>\n",
              "      <td>8.0</td>\n",
              "      <td>-5.0</td>\n",
              "      <td>-9.0</td>\n",
              "      <td>7.517541</td>\n",
              "      <td>2.736161</td>\n",
              "      <td>71</td>\n",
              "      <td>-SN</td>\n",
              "      <td>1</td>\n",
              "    </tr>\n",
              "    <tr>\n",
              "      <td>...</td>\n",
              "      <td>...</td>\n",
              "      <td>...</td>\n",
              "      <td>...</td>\n",
              "      <td>...</td>\n",
              "      <td>...</td>\n",
              "      <td>...</td>\n",
              "      <td>...</td>\n",
              "      <td>...</td>\n",
              "    </tr>\n",
              "    <tr>\n",
              "      <td>162303</td>\n",
              "      <td>13.0</td>\n",
              "      <td>1.0</td>\n",
              "      <td>-1.0</td>\n",
              "      <td>-4.446262</td>\n",
              "      <td>-12.216004</td>\n",
              "      <td>71</td>\n",
              "      <td>-SN</td>\n",
              "      <td>1</td>\n",
              "    </tr>\n",
              "    <tr>\n",
              "      <td>162304</td>\n",
              "      <td>14.0</td>\n",
              "      <td>1.0</td>\n",
              "      <td>-1.0</td>\n",
              "      <td>-4.788282</td>\n",
              "      <td>-13.155697</td>\n",
              "      <td>71</td>\n",
              "      <td>-SN</td>\n",
              "      <td>1</td>\n",
              "    </tr>\n",
              "    <tr>\n",
              "      <td>162305</td>\n",
              "      <td>13.0</td>\n",
              "      <td>1.0</td>\n",
              "      <td>-1.0</td>\n",
              "      <td>-6.500000</td>\n",
              "      <td>-11.258330</td>\n",
              "      <td>71</td>\n",
              "      <td>-SN</td>\n",
              "      <td>1</td>\n",
              "    </tr>\n",
              "    <tr>\n",
              "      <td>162306</td>\n",
              "      <td>14.0</td>\n",
              "      <td>1.0</td>\n",
              "      <td>-1.0</td>\n",
              "      <td>-7.000000</td>\n",
              "      <td>-12.124356</td>\n",
              "      <td>71</td>\n",
              "      <td>-SN</td>\n",
              "      <td>1</td>\n",
              "    </tr>\n",
              "    <tr>\n",
              "      <td>162307</td>\n",
              "      <td>14.0</td>\n",
              "      <td>1.0</td>\n",
              "      <td>-1.0</td>\n",
              "      <td>-8.999027</td>\n",
              "      <td>-10.724622</td>\n",
              "      <td>61</td>\n",
              "      <td>-RA</td>\n",
              "      <td>0</td>\n",
              "    </tr>\n",
              "  </tbody>\n",
              "</table>\n",
              "<p>162306 rows × 8 columns</p>\n",
              "</div>"
            ],
            "text/plain": [
              "        wind_speed  air_temperature  dew_point_temperature  eastward_wind  \\\n",
              "0              8.0             -5.0                   -9.0       7.517541   \n",
              "1              8.0             -5.0                   -9.0       7.878462   \n",
              "2              9.0             -5.0                   -9.0       8.863270   \n",
              "3              7.0             -5.0                   -9.0       6.577848   \n",
              "4              8.0             -5.0                   -9.0       7.517541   \n",
              "...            ...              ...                    ...            ...   \n",
              "162303        13.0              1.0                   -1.0      -4.446262   \n",
              "162304        14.0              1.0                   -1.0      -4.788282   \n",
              "162305        13.0              1.0                   -1.0      -6.500000   \n",
              "162306        14.0              1.0                   -1.0      -7.000000   \n",
              "162307        14.0              1.0                   -1.0      -8.999027   \n",
              "\n",
              "        northward_wind  present_weather current_wx1  Snow  \n",
              "0             2.736161               71         -SN     1  \n",
              "1             1.389185               71         -SN     1  \n",
              "2             1.562834               71         -SN     1  \n",
              "3             2.394141               71         -SN     1  \n",
              "4             2.736161               71         -SN     1  \n",
              "...                ...              ...         ...   ...  \n",
              "162303      -12.216004               71         -SN     1  \n",
              "162304      -13.155697               71         -SN     1  \n",
              "162305      -11.258330               71         -SN     1  \n",
              "162306      -12.124356               71         -SN     1  \n",
              "162307      -10.724622               61         -RA     0  \n",
              "\n",
              "[162306 rows x 8 columns]"
            ]
          },
          "metadata": {
            "tags": []
          },
          "execution_count": 19
        }
      ]
    },
    {
      "cell_type": "markdown",
      "metadata": {
        "id": "QqXiK1C2N04L",
        "colab_type": "text"
      },
      "source": [
        "Drop NaN Values "
      ]
    },
    {
      "cell_type": "code",
      "metadata": {
        "id": "6I0dnOHcN04M",
        "colab_type": "code",
        "colab": {}
      },
      "source": [
        "precip1=precip1.dropna()"
      ],
      "execution_count": 0,
      "outputs": []
    },
    {
      "cell_type": "code",
      "metadata": {
        "id": "yf47QYMtN04N",
        "colab_type": "code",
        "colab": {},
        "outputId": "09552f21-65b5-4304-9294-8e8c5124a787"
      },
      "source": [
        "precip1"
      ],
      "execution_count": 0,
      "outputs": [
        {
          "output_type": "execute_result",
          "data": {
            "text/html": [
              "<div>\n",
              "<style scoped>\n",
              "    .dataframe tbody tr th:only-of-type {\n",
              "        vertical-align: middle;\n",
              "    }\n",
              "\n",
              "    .dataframe tbody tr th {\n",
              "        vertical-align: top;\n",
              "    }\n",
              "\n",
              "    .dataframe thead th {\n",
              "        text-align: right;\n",
              "    }\n",
              "</style>\n",
              "<table border=\"1\" class=\"dataframe\">\n",
              "  <thead>\n",
              "    <tr style=\"text-align: right;\">\n",
              "      <th></th>\n",
              "      <th>wind_speed</th>\n",
              "      <th>air_temperature</th>\n",
              "      <th>dew_point_temperature</th>\n",
              "      <th>eastward_wind</th>\n",
              "      <th>northward_wind</th>\n",
              "      <th>present_weather</th>\n",
              "      <th>current_wx1</th>\n",
              "      <th>Snow</th>\n",
              "    </tr>\n",
              "  </thead>\n",
              "  <tbody>\n",
              "    <tr>\n",
              "      <td>0</td>\n",
              "      <td>8.0</td>\n",
              "      <td>-5.0</td>\n",
              "      <td>-9.0</td>\n",
              "      <td>7.517541</td>\n",
              "      <td>2.736161</td>\n",
              "      <td>71</td>\n",
              "      <td>-SN</td>\n",
              "      <td>1</td>\n",
              "    </tr>\n",
              "    <tr>\n",
              "      <td>1</td>\n",
              "      <td>8.0</td>\n",
              "      <td>-5.0</td>\n",
              "      <td>-9.0</td>\n",
              "      <td>7.878462</td>\n",
              "      <td>1.389185</td>\n",
              "      <td>71</td>\n",
              "      <td>-SN</td>\n",
              "      <td>1</td>\n",
              "    </tr>\n",
              "    <tr>\n",
              "      <td>2</td>\n",
              "      <td>9.0</td>\n",
              "      <td>-5.0</td>\n",
              "      <td>-9.0</td>\n",
              "      <td>8.863270</td>\n",
              "      <td>1.562834</td>\n",
              "      <td>71</td>\n",
              "      <td>-SN</td>\n",
              "      <td>1</td>\n",
              "    </tr>\n",
              "    <tr>\n",
              "      <td>3</td>\n",
              "      <td>7.0</td>\n",
              "      <td>-5.0</td>\n",
              "      <td>-9.0</td>\n",
              "      <td>6.577848</td>\n",
              "      <td>2.394141</td>\n",
              "      <td>71</td>\n",
              "      <td>-SN</td>\n",
              "      <td>1</td>\n",
              "    </tr>\n",
              "    <tr>\n",
              "      <td>4</td>\n",
              "      <td>8.0</td>\n",
              "      <td>-5.0</td>\n",
              "      <td>-9.0</td>\n",
              "      <td>7.517541</td>\n",
              "      <td>2.736161</td>\n",
              "      <td>71</td>\n",
              "      <td>-SN</td>\n",
              "      <td>1</td>\n",
              "    </tr>\n",
              "    <tr>\n",
              "      <td>...</td>\n",
              "      <td>...</td>\n",
              "      <td>...</td>\n",
              "      <td>...</td>\n",
              "      <td>...</td>\n",
              "      <td>...</td>\n",
              "      <td>...</td>\n",
              "      <td>...</td>\n",
              "      <td>...</td>\n",
              "    </tr>\n",
              "    <tr>\n",
              "      <td>162303</td>\n",
              "      <td>13.0</td>\n",
              "      <td>1.0</td>\n",
              "      <td>-1.0</td>\n",
              "      <td>-4.446262</td>\n",
              "      <td>-12.216004</td>\n",
              "      <td>71</td>\n",
              "      <td>-SN</td>\n",
              "      <td>1</td>\n",
              "    </tr>\n",
              "    <tr>\n",
              "      <td>162304</td>\n",
              "      <td>14.0</td>\n",
              "      <td>1.0</td>\n",
              "      <td>-1.0</td>\n",
              "      <td>-4.788282</td>\n",
              "      <td>-13.155697</td>\n",
              "      <td>71</td>\n",
              "      <td>-SN</td>\n",
              "      <td>1</td>\n",
              "    </tr>\n",
              "    <tr>\n",
              "      <td>162305</td>\n",
              "      <td>13.0</td>\n",
              "      <td>1.0</td>\n",
              "      <td>-1.0</td>\n",
              "      <td>-6.500000</td>\n",
              "      <td>-11.258330</td>\n",
              "      <td>71</td>\n",
              "      <td>-SN</td>\n",
              "      <td>1</td>\n",
              "    </tr>\n",
              "    <tr>\n",
              "      <td>162306</td>\n",
              "      <td>14.0</td>\n",
              "      <td>1.0</td>\n",
              "      <td>-1.0</td>\n",
              "      <td>-7.000000</td>\n",
              "      <td>-12.124356</td>\n",
              "      <td>71</td>\n",
              "      <td>-SN</td>\n",
              "      <td>1</td>\n",
              "    </tr>\n",
              "    <tr>\n",
              "      <td>162307</td>\n",
              "      <td>14.0</td>\n",
              "      <td>1.0</td>\n",
              "      <td>-1.0</td>\n",
              "      <td>-8.999027</td>\n",
              "      <td>-10.724622</td>\n",
              "      <td>61</td>\n",
              "      <td>-RA</td>\n",
              "      <td>0</td>\n",
              "    </tr>\n",
              "  </tbody>\n",
              "</table>\n",
              "<p>161098 rows × 8 columns</p>\n",
              "</div>"
            ],
            "text/plain": [
              "        wind_speed  air_temperature  dew_point_temperature  eastward_wind  \\\n",
              "0              8.0             -5.0                   -9.0       7.517541   \n",
              "1              8.0             -5.0                   -9.0       7.878462   \n",
              "2              9.0             -5.0                   -9.0       8.863270   \n",
              "3              7.0             -5.0                   -9.0       6.577848   \n",
              "4              8.0             -5.0                   -9.0       7.517541   \n",
              "...            ...              ...                    ...            ...   \n",
              "162303        13.0              1.0                   -1.0      -4.446262   \n",
              "162304        14.0              1.0                   -1.0      -4.788282   \n",
              "162305        13.0              1.0                   -1.0      -6.500000   \n",
              "162306        14.0              1.0                   -1.0      -7.000000   \n",
              "162307        14.0              1.0                   -1.0      -8.999027   \n",
              "\n",
              "        northward_wind  present_weather current_wx1  Snow  \n",
              "0             2.736161               71         -SN     1  \n",
              "1             1.389185               71         -SN     1  \n",
              "2             1.562834               71         -SN     1  \n",
              "3             2.394141               71         -SN     1  \n",
              "4             2.736161               71         -SN     1  \n",
              "...                ...              ...         ...   ...  \n",
              "162303      -12.216004               71         -SN     1  \n",
              "162304      -13.155697               71         -SN     1  \n",
              "162305      -11.258330               71         -SN     1  \n",
              "162306      -12.124356               71         -SN     1  \n",
              "162307      -10.724622               61         -RA     0  \n",
              "\n",
              "[161098 rows x 8 columns]"
            ]
          },
          "metadata": {
            "tags": []
          },
          "execution_count": 21
        }
      ]
    },
    {
      "cell_type": "markdown",
      "metadata": {
        "id": "mLNmvl_vN04O",
        "colab_type": "text"
      },
      "source": [
        "Final selection of variables for the model "
      ]
    },
    {
      "cell_type": "code",
      "metadata": {
        "id": "VRbBOQZcN04O",
        "colab_type": "code",
        "colab": {}
      },
      "source": [
        "precip1=precip1.drop(['current_wx1','present_weather'],axis=1)"
      ],
      "execution_count": 0,
      "outputs": []
    },
    {
      "cell_type": "code",
      "metadata": {
        "id": "4GZv_KoiN04P",
        "colab_type": "code",
        "colab": {},
        "outputId": "8c868fdb-c6b8-4f3c-e437-1f9aa904df2e"
      },
      "source": [
        "precip1\n"
      ],
      "execution_count": 0,
      "outputs": [
        {
          "output_type": "execute_result",
          "data": {
            "text/html": [
              "<div>\n",
              "<style scoped>\n",
              "    .dataframe tbody tr th:only-of-type {\n",
              "        vertical-align: middle;\n",
              "    }\n",
              "\n",
              "    .dataframe tbody tr th {\n",
              "        vertical-align: top;\n",
              "    }\n",
              "\n",
              "    .dataframe thead th {\n",
              "        text-align: right;\n",
              "    }\n",
              "</style>\n",
              "<table border=\"1\" class=\"dataframe\">\n",
              "  <thead>\n",
              "    <tr style=\"text-align: right;\">\n",
              "      <th></th>\n",
              "      <th>wind_speed</th>\n",
              "      <th>air_temperature</th>\n",
              "      <th>dew_point_temperature</th>\n",
              "      <th>eastward_wind</th>\n",
              "      <th>northward_wind</th>\n",
              "      <th>Snow</th>\n",
              "    </tr>\n",
              "  </thead>\n",
              "  <tbody>\n",
              "    <tr>\n",
              "      <td>0</td>\n",
              "      <td>8.0</td>\n",
              "      <td>-5.0</td>\n",
              "      <td>-9.0</td>\n",
              "      <td>7.517541</td>\n",
              "      <td>2.736161</td>\n",
              "      <td>1</td>\n",
              "    </tr>\n",
              "    <tr>\n",
              "      <td>1</td>\n",
              "      <td>8.0</td>\n",
              "      <td>-5.0</td>\n",
              "      <td>-9.0</td>\n",
              "      <td>7.878462</td>\n",
              "      <td>1.389185</td>\n",
              "      <td>1</td>\n",
              "    </tr>\n",
              "    <tr>\n",
              "      <td>2</td>\n",
              "      <td>9.0</td>\n",
              "      <td>-5.0</td>\n",
              "      <td>-9.0</td>\n",
              "      <td>8.863270</td>\n",
              "      <td>1.562834</td>\n",
              "      <td>1</td>\n",
              "    </tr>\n",
              "    <tr>\n",
              "      <td>3</td>\n",
              "      <td>7.0</td>\n",
              "      <td>-5.0</td>\n",
              "      <td>-9.0</td>\n",
              "      <td>6.577848</td>\n",
              "      <td>2.394141</td>\n",
              "      <td>1</td>\n",
              "    </tr>\n",
              "    <tr>\n",
              "      <td>4</td>\n",
              "      <td>8.0</td>\n",
              "      <td>-5.0</td>\n",
              "      <td>-9.0</td>\n",
              "      <td>7.517541</td>\n",
              "      <td>2.736161</td>\n",
              "      <td>1</td>\n",
              "    </tr>\n",
              "    <tr>\n",
              "      <td>...</td>\n",
              "      <td>...</td>\n",
              "      <td>...</td>\n",
              "      <td>...</td>\n",
              "      <td>...</td>\n",
              "      <td>...</td>\n",
              "      <td>...</td>\n",
              "    </tr>\n",
              "    <tr>\n",
              "      <td>162303</td>\n",
              "      <td>13.0</td>\n",
              "      <td>1.0</td>\n",
              "      <td>-1.0</td>\n",
              "      <td>-4.446262</td>\n",
              "      <td>-12.216004</td>\n",
              "      <td>1</td>\n",
              "    </tr>\n",
              "    <tr>\n",
              "      <td>162304</td>\n",
              "      <td>14.0</td>\n",
              "      <td>1.0</td>\n",
              "      <td>-1.0</td>\n",
              "      <td>-4.788282</td>\n",
              "      <td>-13.155697</td>\n",
              "      <td>1</td>\n",
              "    </tr>\n",
              "    <tr>\n",
              "      <td>162305</td>\n",
              "      <td>13.0</td>\n",
              "      <td>1.0</td>\n",
              "      <td>-1.0</td>\n",
              "      <td>-6.500000</td>\n",
              "      <td>-11.258330</td>\n",
              "      <td>1</td>\n",
              "    </tr>\n",
              "    <tr>\n",
              "      <td>162306</td>\n",
              "      <td>14.0</td>\n",
              "      <td>1.0</td>\n",
              "      <td>-1.0</td>\n",
              "      <td>-7.000000</td>\n",
              "      <td>-12.124356</td>\n",
              "      <td>1</td>\n",
              "    </tr>\n",
              "    <tr>\n",
              "      <td>162307</td>\n",
              "      <td>14.0</td>\n",
              "      <td>1.0</td>\n",
              "      <td>-1.0</td>\n",
              "      <td>-8.999027</td>\n",
              "      <td>-10.724622</td>\n",
              "      <td>0</td>\n",
              "    </tr>\n",
              "  </tbody>\n",
              "</table>\n",
              "<p>161098 rows × 6 columns</p>\n",
              "</div>"
            ],
            "text/plain": [
              "        wind_speed  air_temperature  dew_point_temperature  eastward_wind  \\\n",
              "0              8.0             -5.0                   -9.0       7.517541   \n",
              "1              8.0             -5.0                   -9.0       7.878462   \n",
              "2              9.0             -5.0                   -9.0       8.863270   \n",
              "3              7.0             -5.0                   -9.0       6.577848   \n",
              "4              8.0             -5.0                   -9.0       7.517541   \n",
              "...            ...              ...                    ...            ...   \n",
              "162303        13.0              1.0                   -1.0      -4.446262   \n",
              "162304        14.0              1.0                   -1.0      -4.788282   \n",
              "162305        13.0              1.0                   -1.0      -6.500000   \n",
              "162306        14.0              1.0                   -1.0      -7.000000   \n",
              "162307        14.0              1.0                   -1.0      -8.999027   \n",
              "\n",
              "        northward_wind  Snow  \n",
              "0             2.736161     1  \n",
              "1             1.389185     1  \n",
              "2             1.562834     1  \n",
              "3             2.394141     1  \n",
              "4             2.736161     1  \n",
              "...                ...   ...  \n",
              "162303      -12.216004     1  \n",
              "162304      -13.155697     1  \n",
              "162305      -11.258330     1  \n",
              "162306      -12.124356     1  \n",
              "162307      -10.724622     0  \n",
              "\n",
              "[161098 rows x 6 columns]"
            ]
          },
          "metadata": {
            "tags": []
          },
          "execution_count": 23
        }
      ]
    },
    {
      "cell_type": "markdown",
      "metadata": {
        "id": "hYnIwQ8UN04R",
        "colab_type": "text"
      },
      "source": [
        "# Setup a logistic regression model"
      ]
    },
    {
      "cell_type": "code",
      "metadata": {
        "id": "S5U6Ujx5N04R",
        "colab_type": "code",
        "colab": {}
      },
      "source": [
        "X=precip1.drop('Snow',axis=1)\n",
        "y= precip1['Snow']"
      ],
      "execution_count": 0,
      "outputs": []
    },
    {
      "cell_type": "code",
      "metadata": {
        "id": "fKpTdcwvN04S",
        "colab_type": "code",
        "colab": {}
      },
      "source": [
        "#y"
      ],
      "execution_count": 0,
      "outputs": []
    },
    {
      "cell_type": "markdown",
      "metadata": {
        "id": "kG3rLurMN04T",
        "colab_type": "text"
      },
      "source": [
        "Import configuration of model"
      ]
    },
    {
      "cell_type": "code",
      "metadata": {
        "id": "ENykfhSjN04T",
        "colab_type": "code",
        "colab": {},
        "outputId": "fbfeb7eb-d49c-4a4d-81fb-207c94b1b573"
      },
      "source": [
        "from sklearn.model_selection import train_test_split\n",
        "\n",
        "x_train, x_test, y_train, y_test = train_test_split(X, y, test_size=0.3, random_state=75)\n",
        "\n",
        "# For our matrix calculations we need to transpose our matrixis:\n",
        "x_train = x_train.T\n",
        "y_train = y_train.T\n",
        "x_test = x_test.T\n",
        "y_test = y_test.T\n",
        "\n",
        "print('x_train shape is: ', x_train.shape)\n",
        "print('y_train shape is: ', y_train.shape)\n",
        "print('x_test shape is: ', x_test.shape)\n",
        "print('y_test shape is: ', y_test.shape)"
      ],
      "execution_count": 0,
      "outputs": [
        {
          "output_type": "stream",
          "text": [
            "x_train shape is:  (5, 112768)\n",
            "y_train shape is:  (112768,)\n",
            "x_test shape is:  (5, 48330)\n",
            "y_test shape is:  (48330,)\n"
          ],
          "name": "stdout"
        }
      ]
    },
    {
      "cell_type": "code",
      "metadata": {
        "id": "TpXqrzljN04V",
        "colab_type": "code",
        "colab": {},
        "outputId": "95bd74ba-9535-48cd-ccd9-28f467a489ae"
      },
      "source": [
        "x_test.shape"
      ],
      "execution_count": 0,
      "outputs": [
        {
          "output_type": "execute_result",
          "data": {
            "text/plain": [
              "(5, 48330)"
            ]
          },
          "metadata": {
            "tags": []
          },
          "execution_count": 27
        }
      ]
    },
    {
      "cell_type": "markdown",
      "metadata": {
        "id": "jSQynnW8N04W",
        "colab_type": "text"
      },
      "source": [
        "# Setup Logistic Regression"
      ]
    },
    {
      "cell_type": "markdown",
      "metadata": {
        "id": "aTm0lNC-N04W",
        "colab_type": "text"
      },
      "source": [
        "Instantiate logistic regression"
      ]
    },
    {
      "cell_type": "code",
      "metadata": {
        "id": "s-EmMwD9N04W",
        "colab_type": "code",
        "colab": {},
        "outputId": "8b42f52c-db52-4ffc-97f7-0d7481b989e2"
      },
      "source": [
        "from sklearn.linear_model import LogisticRegression\n",
        "\n",
        "model = LogisticRegression()\n",
        "model.fit(x_train.T,y_train.T)"
      ],
      "execution_count": 0,
      "outputs": [
        {
          "output_type": "stream",
          "text": [
            "/data/keeling/a/ler5/anaconda3/lib/python3.7/site-packages/sklearn/linear_model/logistic.py:432: FutureWarning: Default solver will be changed to 'lbfgs' in 0.22. Specify a solver to silence this warning.\n",
            "  FutureWarning)\n"
          ],
          "name": "stderr"
        },
        {
          "output_type": "execute_result",
          "data": {
            "text/plain": [
              "LogisticRegression(C=1.0, class_weight=None, dual=False, fit_intercept=True,\n",
              "                   intercept_scaling=1, l1_ratio=None, max_iter=100,\n",
              "                   multi_class='warn', n_jobs=None, penalty='l2',\n",
              "                   random_state=None, solver='warn', tol=0.0001, verbose=0,\n",
              "                   warm_start=False)"
            ]
          },
          "metadata": {
            "tags": []
          },
          "execution_count": 28
        }
      ]
    },
    {
      "cell_type": "markdown",
      "metadata": {
        "id": "XBeNae2QN04X",
        "colab_type": "text"
      },
      "source": [
        "Get the intercept and coefficients"
      ]
    },
    {
      "cell_type": "code",
      "metadata": {
        "id": "swyw20AeN04Y",
        "colab_type": "code",
        "colab": {},
        "outputId": "fc977804-dad4-40bc-8e74-b299bb616109"
      },
      "source": [
        "#Get the intercept\n",
        "intercept = model.intercept_\n",
        "intercept"
      ],
      "execution_count": 0,
      "outputs": [
        {
          "output_type": "execute_result",
          "data": {
            "text/plain": [
              "array([1.3313994])"
            ]
          },
          "metadata": {
            "tags": []
          },
          "execution_count": 29
        }
      ]
    },
    {
      "cell_type": "code",
      "metadata": {
        "id": "7e0XICauN04Z",
        "colab_type": "code",
        "colab": {},
        "outputId": "9d847698-0b3c-4f1f-a25d-2a89e93a36e0"
      },
      "source": [
        "# Get the coefficients\n",
        "coefficients = model.coef_\n",
        "coefficients"
      ],
      "execution_count": 0,
      "outputs": [
        {
          "output_type": "execute_result",
          "data": {
            "text/plain": [
              "array([[-0.00284918, -0.92701324, -0.4142266 ,  0.0736531 , -0.03197444]])"
            ]
          },
          "metadata": {
            "tags": []
          },
          "execution_count": 30
        }
      ]
    },
    {
      "cell_type": "code",
      "metadata": {
        "id": "Y8L23pItN04a",
        "colab_type": "code",
        "colab": {},
        "outputId": "64b12a57-517a-4259-e1db-f523cb900a44"
      },
      "source": [
        "# Place coefficients into a list\n",
        "coef_list = list(coefficients[0,:])\n",
        "coef_list"
      ],
      "execution_count": 0,
      "outputs": [
        {
          "output_type": "execute_result",
          "data": {
            "text/plain": [
              "[-0.002849184970800712,\n",
              " -0.9270132445570088,\n",
              " -0.414226604899388,\n",
              " 0.07365309598433661,\n",
              " -0.03197443910151106]"
            ]
          },
          "metadata": {
            "tags": []
          },
          "execution_count": 31
        }
      ]
    },
    {
      "cell_type": "code",
      "metadata": {
        "scrolled": true,
        "id": "-hdr7xGxN04e",
        "colab_type": "code",
        "colab": {},
        "outputId": "665edd22-2d55-4eca-8185-06331eec8b1c"
      },
      "source": [
        "# Match features to their coefficients and, place into dataframe\n",
        "coef_df = pd.DataFrame({'Feature':list(x_train.T.columns), 'Coefficient': coef_list})\n",
        "print(coef_df)"
      ],
      "execution_count": 0,
      "outputs": [
        {
          "output_type": "stream",
          "text": [
            "                 Feature  Coefficient\n",
            "0             wind_speed    -0.002849\n",
            "1        air_temperature    -0.927013\n",
            "2  dew_point_temperature    -0.414227\n",
            "3          eastward_wind     0.073653\n",
            "4         northward_wind    -0.031974\n"
          ],
          "name": "stdout"
        }
      ]
    },
    {
      "cell_type": "markdown",
      "metadata": {
        "id": "FjpKj0AeN04f",
        "colab_type": "text"
      },
      "source": [
        "Evaluating the performance of model"
      ]
    },
    {
      "cell_type": "code",
      "metadata": {
        "id": "JAjUYGJWN04f",
        "colab_type": "code",
        "colab": {},
        "outputId": "80c10ae0-e25b-48a0-e893-ede73a22bf38"
      },
      "source": [
        "# Generating predicted probabilities\n",
        "predicted_prob = model.predict_proba(x_test.T)[:,1]\n",
        "\n",
        "# Generating predicted classes\n",
        "predicted_class = model.predict(x_test.T)\n",
        "\n",
        "#Evaluating performance\n",
        "from sklearn.metrics import confusion_matrix\n",
        "\n",
        "cm = pd.DataFrame(confusion_matrix(y_test.T, predicted_class))\n",
        "cm['Total'] = np.sum(cm, axis=1)\n",
        "cm = cm.append(np.sum(cm, axis=0), ignore_index=True)\n",
        "cm.columns = ['Predicted NO SNOW', 'Predicted SNOW', 'Total']\n",
        "cm = cm.set_index([['Actual NO SNOW', 'Actual SNOW', 'Total']])\n",
        "print(cm)"
      ],
      "execution_count": 0,
      "outputs": [
        {
          "output_type": "stream",
          "text": [
            "                Predicted NO SNOW  Predicted SNOW  Total\n",
            "Actual NO SNOW              27210            1030  28240\n",
            "Actual SNOW                   704           19386  20090\n",
            "Total                       27914           20416  48330\n"
          ],
          "name": "stdout"
        }
      ]
    },
    {
      "cell_type": "code",
      "metadata": {
        "id": "nWHydU5NN04g",
        "colab_type": "code",
        "colab": {},
        "outputId": "ad92443d-14f5-4e76-9bbd-c2350bc24a46"
      },
      "source": [
        "cm"
      ],
      "execution_count": 0,
      "outputs": [
        {
          "output_type": "execute_result",
          "data": {
            "text/html": [
              "<div>\n",
              "<style scoped>\n",
              "    .dataframe tbody tr th:only-of-type {\n",
              "        vertical-align: middle;\n",
              "    }\n",
              "\n",
              "    .dataframe tbody tr th {\n",
              "        vertical-align: top;\n",
              "    }\n",
              "\n",
              "    .dataframe thead th {\n",
              "        text-align: right;\n",
              "    }\n",
              "</style>\n",
              "<table border=\"1\" class=\"dataframe\">\n",
              "  <thead>\n",
              "    <tr style=\"text-align: right;\">\n",
              "      <th></th>\n",
              "      <th>Predicted NO SNOW</th>\n",
              "      <th>Predicted SNOW</th>\n",
              "      <th>Total</th>\n",
              "    </tr>\n",
              "  </thead>\n",
              "  <tbody>\n",
              "    <tr>\n",
              "      <td>Actual NO SNOW</td>\n",
              "      <td>27210</td>\n",
              "      <td>1030</td>\n",
              "      <td>28240</td>\n",
              "    </tr>\n",
              "    <tr>\n",
              "      <td>Actual SNOW</td>\n",
              "      <td>704</td>\n",
              "      <td>19386</td>\n",
              "      <td>20090</td>\n",
              "    </tr>\n",
              "    <tr>\n",
              "      <td>Total</td>\n",
              "      <td>27914</td>\n",
              "      <td>20416</td>\n",
              "      <td>48330</td>\n",
              "    </tr>\n",
              "  </tbody>\n",
              "</table>\n",
              "</div>"
            ],
            "text/plain": [
              "                Predicted NO SNOW  Predicted SNOW  Total\n",
              "Actual NO SNOW              27210            1030  28240\n",
              "Actual SNOW                   704           19386  20090\n",
              "Total                       27914           20416  48330"
            ]
          },
          "metadata": {
            "tags": []
          },
          "execution_count": 34
        }
      ]
    },
    {
      "cell_type": "code",
      "metadata": {
        "id": "TuTu5oPJN04j",
        "colab_type": "code",
        "colab": {},
        "outputId": "a5d1714d-f4a9-4c33-d8d0-3f29663e1161"
      },
      "source": [
        "# Classification report\n",
        "from sklearn.metrics import classification_report\n",
        "\n",
        "print(classification_report(y_test.T, predicted_class))"
      ],
      "execution_count": 0,
      "outputs": [
        {
          "output_type": "stream",
          "text": [
            "              precision    recall  f1-score   support\n",
            "\n",
            "           0       0.97      0.96      0.97     28240\n",
            "           1       0.95      0.96      0.96     20090\n",
            "\n",
            "    accuracy                           0.96     48330\n",
            "   macro avg       0.96      0.96      0.96     48330\n",
            "weighted avg       0.96      0.96      0.96     48330\n",
            "\n"
          ],
          "name": "stdout"
        }
      ]
    },
    {
      "cell_type": "code",
      "metadata": {
        "id": "r5_bEUR8N04k",
        "colab_type": "code",
        "colab": {},
        "outputId": "012f3120-4a70-4753-a7a5-b2272730ebcb"
      },
      "source": [
        "from sklearn.metrics import brier_score_loss\n",
        "\n",
        "# predict probabilities\n",
        "predicted_prob = model.predict_proba(x_test.T)[:,1]\n",
        "\n",
        "# calculate bier score\n",
        "loss = brier_score_loss(y_test.T, predicted_prob)\n",
        "loss\n",
        "#predicted_prob.shape\n",
        "#for i in range(48330):\n",
        " #   print((predicted_prob[i]))\n",
        "    "
      ],
      "execution_count": 0,
      "outputs": [
        {
          "output_type": "execute_result",
          "data": {
            "text/plain": [
              "0.029391815235183246"
            ]
          },
          "metadata": {
            "tags": []
          },
          "execution_count": 36
        }
      ]
    },
    {
      "cell_type": "code",
      "metadata": {
        "id": "b7VkpgbCN04l",
        "colab_type": "code",
        "colab": {},
        "outputId": "4e5402c2-6b49-4f13-c0e1-11764aae0098"
      },
      "source": [
        "#for i in range(48330):\n",
        " #   print((y_test[i]))\n",
        "y_test\n",
        "\n"
      ],
      "execution_count": 0,
      "outputs": [
        {
          "output_type": "execute_result",
          "data": {
            "text/plain": [
              "90288     0\n",
              "27452     1\n",
              "55008     1\n",
              "120683    1\n",
              "22502     0\n",
              "41812     1\n",
              "97918     0\n",
              "22377     0\n",
              "55142     0\n",
              "63185     1\n",
              "143429    1\n",
              "19488     1\n",
              "55768     1\n",
              "141378    0\n",
              "22738     0\n",
              "65810     0\n",
              "75989     0\n",
              "119409    1\n",
              "57021     0\n",
              "101720    1\n",
              "30466     0\n",
              "20322     1\n",
              "137901    0\n",
              "134329    1\n",
              "59188     0\n",
              "78121     0\n",
              "78535     0\n",
              "14320     0\n",
              "129163    1\n",
              "155801    0\n",
              "         ..\n",
              "34997     1\n",
              "72114     1\n",
              "143287    1\n",
              "32773     1\n",
              "42022     1\n",
              "71340     1\n",
              "155770    0\n",
              "80330     1\n",
              "52370     0\n",
              "36205     0\n",
              "75696     0\n",
              "25651     0\n",
              "87765     1\n",
              "133992    0\n",
              "113050    0\n",
              "127705    1\n",
              "129547    0\n",
              "118201    0\n",
              "97776     0\n",
              "2677      1\n",
              "9780      1\n",
              "54185     0\n",
              "160890    1\n",
              "7119      0\n",
              "65926     0\n",
              "37770     0\n",
              "83869     0\n",
              "74544     0\n",
              "155335    0\n",
              "159719    1\n",
              "Name: Snow, Length: 48330, dtype: int64"
            ]
          },
          "metadata": {
            "tags": []
          },
          "execution_count": 66
        }
      ]
    },
    {
      "cell_type": "code",
      "metadata": {
        "id": "KSAHfjqCN04n",
        "colab_type": "code",
        "colab": {},
        "outputId": "05106c10-9d89-4226-88b8-5fe5ebb747d8"
      },
      "source": [
        "predicted_prob\n"
      ],
      "execution_count": 0,
      "outputs": [
        {
          "output_type": "execute_result",
          "data": {
            "text/plain": [
              "array([[9.86844124e-01, 1.31558758e-02],\n",
              "       [5.96011934e-04, 9.99403988e-01],\n",
              "       [4.57086237e-01, 5.42913763e-01],\n",
              "       ...,\n",
              "       [9.98260127e-01, 1.73987266e-03],\n",
              "       [9.99999086e-01, 9.14457593e-07],\n",
              "       [2.90274139e-01, 7.09725861e-01]])"
            ]
          },
          "metadata": {
            "tags": []
          },
          "execution_count": 52
        }
      ]
    },
    {
      "cell_type": "code",
      "metadata": {
        "scrolled": true,
        "id": "hy8ISJO2N04q",
        "colab_type": "code",
        "colab": {},
        "outputId": "9a4f066d-b7bf-4051-95b4-9b6cd4fa8c04"
      },
      "source": [
        "# plot impact of brier for single forecasts\n",
        "from sklearn.metrics import brier_score_loss\n",
        "from matplotlib import pyplot\n",
        "from numpy import array\n",
        "# predictions as 0 to 1 in 0.01 increments\n",
        "yhat=model.predict(x_test.T)\n",
        "# evaluate predictions for a 1 true value\n",
        "losses = [brier_score_loss(y_test.T, [y for x in range(len(y_test.T))]) for y in predicted_prob]\n",
        "#losses = [brier_score_loss(y_test.T,predicted_prob)]\n",
        "# plot input to loss\n",
        "pyplot.plot(predicted_prob, losses)\n",
        "pyplot.show()\n",
        "#losses"
      ],
      "execution_count": 0,
      "outputs": [
        {
          "output_type": "display_data",
          "data": {
            "image/png": "[encoded data removed]",
            "text/plain": [
              "<Figure size 432x288 with 1 Axes>"
            ]
          },
          "metadata": {
            "tags": [],
            "needs_background": "light"
          }
        }
      ]
    },
    {
      "cell_type": "code",
      "metadata": {
        "id": "Z_sXW0JjN04r",
        "colab_type": "code",
        "colab": {}
      },
      "source": [
        "predicted_prob_train = model.predict_proba(x_train.T)[:,1]\n",
        "\n",
        "naive1=sum(predicted_prob)/predicted_prob.shape[0]\n",
        "naive1 \n",
        "yhat = [naive1 for _ in range(len(predicted_prob))]\n",
        "bs_ref= brier_score_loss(y_test.T, yhat)\n",
        "bs = brier_score_loss(y_test.T, predicted_prob)\n",
        "bs_skill=1-(bs/bs_ref)"
      ],
      "execution_count": 0,
      "outputs": []
    },
    {
      "cell_type": "code",
      "metadata": {
        "scrolled": true,
        "id": "JuccdGFmN04s",
        "colab_type": "code",
        "colab": {},
        "outputId": "62af60da-e11e-4026-e54b-9768b57b2f75"
      },
      "source": [
        "bs_skill"
      ],
      "execution_count": 0,
      "outputs": [
        {
          "output_type": "execute_result",
          "data": {
            "text/plain": [
              "0.8789919924466414"
            ]
          },
          "metadata": {
            "tags": []
          },
          "execution_count": 33
        }
      ]
    },
    {
      "cell_type": "code",
      "metadata": {
        "id": "yJUmookLN04t",
        "colab_type": "code",
        "colab": {},
        "outputId": "909402f0-3181-45d1-ff19-915a7dead3f5"
      },
      "source": [
        "bs_ref"
      ],
      "execution_count": 0,
      "outputs": [
        {
          "output_type": "execute_result",
          "data": {
            "text/plain": [
              "0.24289148982211417"
            ]
          },
          "metadata": {
            "tags": []
          },
          "execution_count": 34
        }
      ]
    },
    {
      "cell_type": "code",
      "metadata": {
        "id": "E-fB60wyN04u",
        "colab_type": "code",
        "colab": {},
        "outputId": "7205ba54-24cc-412d-995e-4becbae9c4cf"
      },
      "source": [
        "bs"
      ],
      "execution_count": 0,
      "outputs": [
        {
          "output_type": "execute_result",
          "data": {
            "text/plain": [
              "0.029391815235040912"
            ]
          },
          "metadata": {
            "tags": []
          },
          "execution_count": 35
        }
      ]
    },
    {
      "cell_type": "markdown",
      "metadata": {
        "id": "AvKprFzqN04w",
        "colab_type": "text"
      },
      "source": [
        "Other logistic regression (SGDClassifier)"
      ]
    },
    {
      "cell_type": "code",
      "metadata": {
        "id": "AblmHhWqN04w",
        "colab_type": "code",
        "colab": {},
        "outputId": "e91ac9c0-3837-413f-8306-bfb9bd0ca2ff"
      },
      "source": [
        "from sklearn.linear_model import SGDClassifier\n",
        "#from sklearn.cross_validation import train_test_split\n",
        "from sklearn import metrics\n",
        "from sklearn.metrics import  mean_squared_error, r2_score\n",
        "model=SGDClassifier()\n",
        "#model = LogisticRegression()\n",
        "model.fit(x_train.T, y_train.T)"
      ],
      "execution_count": 0,
      "outputs": [
        {
          "output_type": "execute_result",
          "data": {
            "text/plain": [
              "SGDClassifier(alpha=0.0001, average=False, class_weight=None,\n",
              "              early_stopping=False, epsilon=0.1, eta0=0.0, fit_intercept=True,\n",
              "              l1_ratio=0.15, learning_rate='optimal', loss='hinge',\n",
              "              max_iter=1000, n_iter_no_change=5, n_jobs=None, penalty='l2',\n",
              "              power_t=0.5, random_state=None, shuffle=True, tol=0.001,\n",
              "              validation_fraction=0.1, verbose=0, warm_start=False)"
            ]
          },
          "metadata": {
            "tags": []
          },
          "execution_count": 38
        }
      ]
    },
    {
      "cell_type": "markdown",
      "metadata": {
        "id": "0AI4gCEcN04z",
        "colab_type": "text"
      },
      "source": [
        "Generating evaluation metrics"
      ]
    },
    {
      "cell_type": "code",
      "metadata": {
        "id": "B-QmbxSjN040",
        "colab_type": "code",
        "colab": {},
        "outputId": "66794316-05d7-47a2-88f5-d1fbb82ab5fd"
      },
      "source": [
        "predicted = model.predict(x_test.T)\n",
        "\n",
        "print(metrics.accuracy_score(y_test, predicted))"
      ],
      "execution_count": 0,
      "outputs": [
        {
          "output_type": "stream",
          "text": [
            "0.9558038485412788\n"
          ],
          "name": "stdout"
        }
      ]
    },
    {
      "cell_type": "markdown",
      "metadata": {
        "id": "uBLJqRXIN041",
        "colab_type": "text"
      },
      "source": [
        "Another logistic regression (SGDClassifier and CalibratedClassifierCV)"
      ]
    },
    {
      "cell_type": "code",
      "metadata": {
        "id": "ltT3e2z4N041",
        "colab_type": "code",
        "colab": {},
        "outputId": "ec618f66-70e1-4d6e-b4f3-3b2a33d4290b"
      },
      "source": [
        "from sklearn.calibration import CalibratedClassifierCV\n",
        "from sklearn.linear_model import SGDClassifier\n",
        "\n",
        "model = SGDClassifier(loss='hinge')\n",
        "calibrated_model = CalibratedClassifierCV(model, cv=5, method='sigmoid')\n",
        "calibrated_model.fit(x_train.T, y_train.T)"
      ],
      "execution_count": 0,
      "outputs": [
        {
          "output_type": "execute_result",
          "data": {
            "text/plain": [
              "CalibratedClassifierCV(base_estimator=SGDClassifier(alpha=0.0001, average=False,\n",
              "                                                    class_weight=None,\n",
              "                                                    early_stopping=False,\n",
              "                                                    epsilon=0.1, eta0=0.0,\n",
              "                                                    fit_intercept=True,\n",
              "                                                    l1_ratio=0.15,\n",
              "                                                    learning_rate='optimal',\n",
              "                                                    loss='hinge', max_iter=1000,\n",
              "                                                    n_iter_no_change=5,\n",
              "                                                    n_jobs=None, penalty='l2',\n",
              "                                                    power_t=0.5,\n",
              "                                                    random_state=None,\n",
              "                                                    shuffle=True, tol=0.001,\n",
              "                                                    validation_fraction=0.1,\n",
              "                                                    verbose=0,\n",
              "                                                    warm_start=False),\n",
              "                       cv=5, method='sigmoid')"
            ]
          },
          "metadata": {
            "tags": []
          },
          "execution_count": 40
        }
      ]
    },
    {
      "cell_type": "code",
      "metadata": {
        "id": "wVi1x1XvN043",
        "colab_type": "code",
        "colab": {}
      },
      "source": [
        ""
      ],
      "execution_count": 0,
      "outputs": []
    }
  ]
}